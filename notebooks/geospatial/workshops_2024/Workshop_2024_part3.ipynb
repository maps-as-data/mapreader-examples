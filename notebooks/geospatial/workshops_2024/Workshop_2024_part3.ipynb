{
 "cells": [
  {
   "attachments": {},
   "cell_type": "markdown",
   "id": "7a354e6d",
   "metadata": {},
   "source": [
    "# Mapreader Workshops 2024"
   ]
  },
  {
   "attachments": {},
   "cell_type": "markdown",
   "id": "1e640743",
   "metadata": {},
   "source": [
    "----"
   ]
  },
  {
   "cell_type": "markdown",
   "id": "f2353861",
   "metadata": {},
   "source": [
    "First check you have the correct version of MapReader: v1.3.2\n",
    "\n",
    "This can be downloaded from pypi using `pip install mapreader==1.3.2` or by checking out the repo at [this commit](https://github.com/Living-with-machines/MapReader/releases/tag/v1.3.2)"
   ]
  },
  {
   "cell_type": "code",
   "execution_count": null,
   "id": "a0d31f88",
   "metadata": {},
   "outputs": [],
   "source": [
    "import mapreader\n",
    "assert mapreader.__version__ == '1.3.2'"
   ]
  },
  {
   "cell_type": "markdown",
   "id": "f65f140c",
   "metadata": {},
   "source": [
    "-------------"
   ]
  },
  {
   "attachments": {},
   "cell_type": "markdown",
   "id": "6151ccfd",
   "metadata": {},
   "source": [
    "# Classify"
   ]
  },
  {
   "attachments": {},
   "cell_type": "markdown",
   "id": "0433e1a7",
   "metadata": {},
   "source": [
    "We can also use our ``ClassifierContainer`` to infer labels on new datasets with a pre-trained/fine-tuned model.\n",
    "\n",
    "We are going to look at how to use our railspace model (https://huggingface.co/Livingwithmachines/mr_resnest101e_finetuned_OS_6inch_2nd_ed_railspace) to predict labels on patches.To do this, we need to load the model from huggingface and then pass it in as the ``model`` argument in our ``ClassifierContainer``."
   ]
  },
  {
   "cell_type": "markdown",
   "id": "60cffc05",
   "metadata": {},
   "source": [
    "We need to use the ``timm`` library to set up our model. You can see this is shown in the top right corner of the [model page](https://huggingface.co/Livingwithmachines/mr_resnest101e_finetuned_OS_6inch_2nd_ed_railspace) where it says ``</> Use in timm``.\n",
    "\n",
    "Other models will have different instructions, e.g. [resnet-50](https://huggingface.co/microsoft/resnet-50) should be loaded with the ``transformers`` library."
   ]
  },
  {
   "cell_type": "code",
   "execution_count": null,
   "id": "e6aa7339",
   "metadata": {},
   "outputs": [],
   "source": [
    "try:\n",
    "    import timm\n",
    "except ImportError: # timm isn't installed by default, so you might need to install it\n",
    "    !pip install timm\n",
    "    import timm"
   ]
  },
  {
   "cell_type": "code",
   "execution_count": null,
   "id": "8586785c",
   "metadata": {},
   "outputs": [],
   "source": [
    "my_model = timm.create_model(\"hf_hub:Livingwithmachines/mr_resnest101e_finetuned_OS_6inch_2nd_ed_railspace\", pretrained=True)"
   ]
  },
  {
   "cell_type": "markdown",
   "id": "b363ac68",
   "metadata": {},
   "source": [
    "After setting up the model, we can then set up our ``ClassifierContainer``. This is done in the same way as before, except this time we pass ``my_model`` as the model argument."
   ]
  },
  {
   "cell_type": "code",
   "execution_count": null,
   "id": "f6276606",
   "metadata": {},
   "outputs": [],
   "source": [
    "from mapreader import ClassifierContainer"
   ]
  },
  {
   "cell_type": "markdown",
   "id": "665bf69e",
   "metadata": {},
   "source": [
    "The below will make sure that the model training/inference runs as as fast as possible on your machine by using CUDA (GPU) or MPS if they are available.\n",
    "\n",
    "This ``device`` variable can then be fed into the ``ClassifierContainer``."
   ]
  },
  {
   "cell_type": "code",
   "execution_count": null,
   "id": "13140bca",
   "metadata": {},
   "outputs": [],
   "source": [
    "import torch\n",
    "\n",
    "device = 'cuda' if torch.cuda.is_available() else 'mps' if torch.backends.mps.is_available() else 'cpu'"
   ]
  },
  {
   "cell_type": "code",
   "execution_count": null,
   "id": "5a0ca8ad",
   "metadata": {},
   "outputs": [],
   "source": [
    "my_classifier = ClassifierContainer(\n",
    "    model=my_model,\n",
    "    labels_map={0:\"no\", 1:\"railspace\"}, # manually set this, you can find it in the model card - https://huggingface.co/Livingwithmachines/mr_resnest101e_finetuned_OS_6inch_2nd_ed_railspace\n",
    "    dataloaders=None,\n",
    ")"
   ]
  },
  {
   "cell_type": "markdown",
   "id": "e14b0b01",
   "metadata": {},
   "source": [
    "## Infer"
   ]
  },
  {
   "cell_type": "markdown",
   "id": "0e486b6c",
   "metadata": {},
   "source": [
    "The model can now be used to infer, or predict, the labels of \"unseen\" patches.\n",
    "\n",
    "To show how inference works, we will predict the labels on patches from just one parent image. \n",
    "\n",
    "We will do this by creating a ``subset_patch_df`` from our previously saved ``patch_df.csv``.\n",
    "Our new ``subset_patch_df`` will only contain the information of patches from ``map_75650661.png``."
   ]
  },
  {
   "cell_type": "code",
   "execution_count": null,
   "id": "d2c82d8b",
   "metadata": {},
   "outputs": [],
   "source": [
    "import pandas as pd\n",
    "\n",
    "patch_df = pd.read_csv(\"./patch_df.csv\", index_col=0)  # load our patch_df.csv file\n",
    "\n",
    "subset_patch_df = patch_df[\n",
    "    patch_df[\"parent_id\"] == \"map_75650661.png\"\n",
    "]  # filter for our chosen parent image\n",
    "subset_patch_df.head()"
   ]
  },
  {
   "cell_type": "markdown",
   "id": "069016d3",
   "metadata": {},
   "source": [
    "> __**NOTE**__: MapReader can be used to predict the labels on entire datasets and so creating a ``subset_patch_df`` is not needed in most use cases."
   ]
  },
  {
   "cell_type": "markdown",
   "id": "3d6085b2",
   "metadata": {},
   "source": [
    "### Create a dataset (``infer``) from our ``subset_patch_df``"
   ]
  },
  {
   "cell_type": "code",
   "execution_count": null,
   "id": "f482f071",
   "metadata": {},
   "outputs": [],
   "source": [
    "from mapreader import PatchDataset"
   ]
  },
  {
   "cell_type": "code",
   "execution_count": null,
   "id": "8757dc4f",
   "metadata": {},
   "outputs": [],
   "source": [
    "infer = PatchDataset(subset_patch_df, transform=\"val\", patch_paths_col=\"image_path\")"
   ]
  },
  {
   "attachments": {},
   "cell_type": "markdown",
   "id": "94eb2966",
   "metadata": {},
   "source": [
    "### Load dataset into ``my_classifier``"
   ]
  },
  {
   "cell_type": "markdown",
   "id": "81f6de9c",
   "metadata": {},
   "source": [
    "In the same way as we did in the last notebook, we need to load our dataset into our classifier container."
   ]
  },
  {
   "cell_type": "code",
   "execution_count": null,
   "id": "b9a1cc46",
   "metadata": {},
   "outputs": [],
   "source": [
    "my_classifier.load_dataset(infer, \"infer_railspace\")"
   ]
  },
  {
   "attachments": {},
   "cell_type": "markdown",
   "id": "af9e461f",
   "metadata": {},
   "source": [
    "### Run model inference"
   ]
  },
  {
   "cell_type": "markdown",
   "id": "e3a3f48c",
   "metadata": {},
   "source": [
    "__**YOUR TURN**__: Run inference on your ``\"infer_railspace\"`` dataset\n",
    "\n",
    "See [here](https://mapreader.readthedocs.io/en/latest/User-guide/Classify/Infer.html#infer) in docs."
   ]
  },
  {
   "cell_type": "code",
   "execution_count": null,
   "id": "f47f6608",
   "metadata": {},
   "outputs": [],
   "source": [
    "my_classifier.inference(\"infer_railspace\")"
   ]
  },
  {
   "cell_type": "markdown",
   "id": "97c6589b",
   "metadata": {},
   "source": [
    "Remember to save your results!"
   ]
  },
  {
   "cell_type": "code",
   "execution_count": null,
   "id": "2fa7978a",
   "metadata": {},
   "outputs": [],
   "source": [
    "my_classifier.save_predictions(\"infer_railspace\")"
   ]
  },
  {
   "attachments": {},
   "cell_type": "markdown",
   "id": "fd63ec08",
   "metadata": {},
   "source": [
    "### Save results to metadata"
   ]
  },
  {
   "cell_type": "markdown",
   "id": "0baa4808",
   "metadata": {},
   "source": [
    "To add the predictions back into a ``MapImages`` object, we simply need to load our predictions csv file as metadata.\n",
    "\n",
    "Since we have started a new notebook, we can create a new ``MapImages`` object by loading our patches."
   ]
  },
  {
   "cell_type": "code",
   "execution_count": null,
   "id": "85dd41cb",
   "metadata": {},
   "outputs": [],
   "source": [
    "from mapreader import load_patches"
   ]
  },
  {
   "cell_type": "code",
   "execution_count": null,
   "id": "438d5700",
   "metadata": {},
   "outputs": [],
   "source": [
    "my_maps = load_patches(\n",
    "    \"./patches_100_meters/*png\", parent_paths=\"./maps/*png\"\n",
    ")"
   ]
  },
  {
   "cell_type": "code",
   "execution_count": null,
   "id": "734f324c",
   "metadata": {},
   "outputs": [],
   "source": [
    "my_maps.add_metadata(\"./infer_railspace_predictions_patch_df.csv\", tree_level=\"patch\")"
   ]
  },
  {
   "cell_type": "code",
   "execution_count": null,
   "id": "d734c2ea",
   "metadata": {},
   "outputs": [],
   "source": [
    "my_maps.add_shape()"
   ]
  },
  {
   "attachments": {},
   "cell_type": "markdown",
   "id": "e0359506",
   "metadata": {},
   "source": [
    "We can use the ``.show_parent()`` method to see how our predictions look on our parent map sheet (``map_74488700.png``)."
   ]
  },
  {
   "cell_type": "code",
   "execution_count": null,
   "id": "85c7f1d2",
   "metadata": {},
   "outputs": [],
   "source": [
    "my_maps.show_parent(\n",
    "    \"map_75650661.png\",\n",
    "    column_to_plot=\"pred\",\n",
    "    vmin=0,\n",
    "    vmax=1,\n",
    "    alpha=0.5,\n",
    "    patch_border=False,\n",
    ")"
   ]
  },
  {
   "attachments": {},
   "cell_type": "markdown",
   "id": "1ef19e32",
   "metadata": {},
   "source": [
    "And the ``.convert_images()`` method to save our results."
   ]
  },
  {
   "cell_type": "code",
   "execution_count": null,
   "id": "c8352986",
   "metadata": {},
   "outputs": [],
   "source": [
    "parent_df, patch_df = my_maps.convert_images(save=True, save_format=\"excel\") # here we are saving to xlsx so we don't change our \"*.csv\" files from before!"
   ]
  },
  {
   "attachments": {},
   "cell_type": "markdown",
   "id": "12eb039a",
   "metadata": {},
   "source": [
    "We can also save our outputs as a ``geojson`` file using the ``.save_patches_to_geojson()`` method. We'll call the file ``\"railspace_patches.geojson\"``.\n",
    "\n",
    "> _**NOTE**_: This will require you to convert your patch coordinates into a polygon format. If these aren't already available, they can be added using the ``.add_patch_polygons()`` method."
   ]
  },
  {
   "cell_type": "code",
   "execution_count": null,
   "id": "c97980d7",
   "metadata": {},
   "outputs": [],
   "source": [
    "my_maps.add_patch_polygons()\n",
    "my_maps.save_patches_to_geojson(\"railspace_patches.geojson\")"
   ]
  },
  {
   "attachments": {},
   "cell_type": "markdown",
   "id": "8211949a",
   "metadata": {},
   "source": [
    "Beyond MapReader, these outputs can be used to generate interesting visualizations in other tools.\n",
    "\n",
    "For example, here are two visualizations of the rail space data from [our paper]:\n",
    "\n",
    "- https://felt.com/map/MapReader-Launch-Event-map-Urban-Areas-and-Rail-space-9AqftKrvPTlWfwOGkdkCGkD\n",
    "- https://maps.nls.uk/projects/mapreader/index.html#zoom=6.0&lat=56.00000&lon=-4.00000"
   ]
  },
  {
   "attachments": {},
   "cell_type": "markdown",
   "id": "d356c4f5",
   "metadata": {},
   "source": [
    "# Documentation"
   ]
  },
  {
   "attachments": {},
   "cell_type": "markdown",
   "id": "ce9003d1",
   "metadata": {},
   "source": [
    "Please refer to the [MapReader documentation](https://mapreader.readthedocs.io/en/latest/) for more information."
   ]
  },
  {
   "cell_type": "code",
   "execution_count": null,
   "id": "74b5ba55",
   "metadata": {},
   "outputs": [],
   "source": []
  }
 ],
 "metadata": {
  "kernelspec": {
   "display_name": "Python 3 (ipykernel)",
   "language": "python",
   "name": "python3"
  },
  "language_info": {
   "codemirror_mode": {
    "name": "ipython",
    "version": 3
   },
   "file_extension": ".py",
   "mimetype": "text/x-python",
   "name": "python",
   "nbconvert_exporter": "python",
   "pygments_lexer": "ipython3",
   "version": "3.12.2"
  }
 },
 "nbformat": 4,
 "nbformat_minor": 5
}
