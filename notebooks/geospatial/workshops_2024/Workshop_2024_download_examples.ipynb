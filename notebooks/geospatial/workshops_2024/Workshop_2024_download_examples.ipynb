{
 "cells": [
  {
   "attachments": {},
   "cell_type": "markdown",
   "id": "7a354e6d",
   "metadata": {},
   "source": [
    "# Mapreader Workshops 2024"
   ]
  },
  {
   "attachments": {},
   "cell_type": "markdown",
   "id": "1e640743",
   "metadata": {},
   "source": [
    "----"
   ]
  },
  {
   "cell_type": "markdown",
   "id": "f2353861",
   "metadata": {},
   "source": [
    "First check you have the correct version of MapReader: v1.3.2\n",
    "\n",
    "This can be downloaded from pypi using `pip install mapreader==1.3.2` or by checking out the repo at [this commit](https://github.com/Living-with-machines/MapReader/releases/tag/v1.3.2)"
   ]
  },
  {
   "cell_type": "code",
   "execution_count": 1,
   "id": "a0d31f88",
   "metadata": {},
   "outputs": [],
   "source": [
    "import mapreader\n",
    "assert mapreader.__version__ == '1.3.2'"
   ]
  },
  {
   "cell_type": "markdown",
   "id": "f65f140c",
   "metadata": {},
   "source": [
    "-------------"
   ]
  },
  {
   "attachments": {},
   "cell_type": "markdown",
   "id": "c9d85bb2",
   "metadata": {},
   "source": [
    "# Download\n",
    "\n",
    "https://mapreader.readthedocs.io/en/latest/User-guide/Download.html"
   ]
  },
  {
   "attachments": {},
   "cell_type": "markdown",
   "id": "970fc259",
   "metadata": {},
   "source": [
    "MapReader accepts different types of map images as input. \n",
    "\n",
    "We're focusing on georeferenced maps that are available as tile layers from libraries (such as the [NLS](https://maps.nls.uk/)), archives, or other services."
   ]
  },
  {
   "attachments": {},
   "cell_type": "markdown",
   "id": "ac2d0b27",
   "metadata": {},
   "source": [
    "MapReader’s ``Download`` subpackage is used to download maps stored as tile layers on a tile server. It contains two classes for downloading maps:\n",
    "\n",
    "1. ``SheetDownloader`` - This can be used to download map sheets and relies on information provided in a metadata json file.\n",
    "\n",
    "2. ``Downloader`` - This is used to download maps using polygons and can be used even if you don’t have a metadata json file."
   ]
  },
  {
   "attachments": {},
   "cell_type": "markdown",
   "id": "6093560e",
   "metadata": {},
   "source": [
    "In this workshop, we will use the ``SheetDownloader`` along with metadata from the NLS stored in the ``persistent_data`` directory of the mapreader repository."
   ]
  },
  {
   "attachments": {},
   "cell_type": "markdown",
   "id": "8896df49",
   "metadata": {},
   "source": [
    "## Set up the ``SheetDownloader``"
   ]
  },
  {
   "cell_type": "code",
   "execution_count": null,
   "id": "0be3e76b",
   "metadata": {},
   "outputs": [],
   "source": [
    "from mapreader import SheetDownloader"
   ]
  },
  {
   "cell_type": "markdown",
   "id": "6c29a45d",
   "metadata": {},
   "source": [
    "To get your download URL, please set up a free account on [maptiler](https://cloud.maptiler.com/maps/) and go to https://cloud.maptiler.com/tiles/uk-osgb10k1888/ to find the tile layer for the 2nd edition OS 6inch maps of the UK.\n",
    "\n",
    "The URL you will need is the XYZ url listed under the Raster tiles heading."
   ]
  },
  {
   "attachments": {},
   "cell_type": "markdown",
   "id": "7f5b2de8",
   "metadata": {},
   "source": [
    "__**YOUR TURN**__: Set up your ``my_ts`` by passing the ``metadata_path`` and ``download_url`` arguments to the ``SheetDownloader`` .\n",
    "\n",
    "See [here](https://mapreader.readthedocs.io/en/latest/User-guide/Download.html#sheetdownloader) in the docs."
   ]
  },
  {
   "cell_type": "code",
   "execution_count": null,
   "id": "489840c7",
   "metadata": {},
   "outputs": [],
   "source": [
    "# my_ts = SheetDownloader(\n",
    "#    metadata_path=\"../NLS_metadata/metadata_OS_Six_Inch_GB_WFS_light.json\",\n",
    "#    download_url=\"\",\n",
    "# )"
   ]
  },
  {
   "attachments": {},
   "cell_type": "markdown",
   "id": "5c6534f3",
   "metadata": {},
   "source": [
    "## Select maps to download"
   ]
  },
  {
   "attachments": {},
   "cell_type": "markdown",
   "id": "e0b29f7b",
   "metadata": {},
   "source": [
    "Your ``SheetDownloader`` instance (``my_ts``) can be used to query and download map sheets using a number of methods:\n",
    "\n",
    "1. Any which are within or intersect/overlap with a polygon.\n",
    "2.  Any which contain a set of given coordinates.\n",
    "3. Any which intersect with a line.\n",
    "4. By WFS ID numbers.\n",
    "5. By searching for a string within a metadata field.\n",
    "\n",
    "These methods can be used to either directly download maps or to create a list of queries which can interacted with and downloaded subsequently."
   ]
  },
  {
   "cell_type": "markdown",
   "id": "9efc2f54",
   "metadata": {},
   "source": [
    "In this notebook, we will see all the different ways of querying our metadata to find maps. \n",
    "The maps we find have no particular significance except to show how the methods work."
   ]
  },
  {
   "attachments": {},
   "cell_type": "markdown",
   "id": "78dbb884",
   "metadata": {},
   "source": [
    "### 1. Finding map sheets which overlap or intersect with a polygon."
   ]
  },
  {
   "attachments": {},
   "cell_type": "markdown",
   "id": "8df7a992",
   "metadata": {},
   "source": [
    "The ``.query_map_sheets_by_polygon()`` and ``.download_map_sheets_by_polygon()`` methods can be used find and download map sheets which are within or intersect/overlap with a [shapely.Polygon](https://shapely.readthedocs.io/en/stable/reference/shapely.Polygon.html#shapely.Polygon).\n",
    "\n",
    "These methods have two modes:\n",
    "\n",
    "- \"within\" - This finds map sheets whose bounds are completely within the given polygon.\n",
    "- \"intersects\" - This finds map sheets which intersect/overlap with the given polygon.\n",
    "\n",
    "The ``mode`` can be selected by specifying ``mode=\"within\"`` or ``mode=\"intersects\"``."
   ]
  },
  {
   "attachments": {},
   "cell_type": "markdown",
   "id": "d91fc9cb",
   "metadata": {},
   "source": [
    "#### Create a polygon"
   ]
  },
  {
   "cell_type": "code",
   "execution_count": null,
   "id": "bb923720",
   "metadata": {},
   "outputs": [],
   "source": [
    "from mapreader import create_polygon_from_latlons"
   ]
  },
  {
   "attachments": {},
   "cell_type": "markdown",
   "id": "6d77e0ed",
   "metadata": {},
   "source": [
    "__**YOUR TURN**__: Create a polygon using the following latlons: ``55.65, -3.1, 55.7, -3``\n",
    "\n",
    "See [here](https://mapreader.readthedocs.io/en/latest/User-guide/Download.html#finding-map-sheets-which-overlap-or-intersect-with-a-polygon) in the docs."
   ]
  },
  {
   "cell_type": "code",
   "execution_count": null,
   "id": "5dbe1b30",
   "metadata": {},
   "outputs": [],
   "source": [
    "# my_polygon = create_polygon_from_latlons()"
   ]
  },
  {
   "attachments": {},
   "cell_type": "markdown",
   "id": "97d3a07e",
   "metadata": {},
   "source": [
    "#### Find maps"
   ]
  },
  {
   "attachments": {},
   "cell_type": "markdown",
   "id": "7fb2137d",
   "metadata": {},
   "source": [
    "To find map sheets which fall **within** the bounds of this polygon:"
   ]
  },
  {
   "cell_type": "code",
   "execution_count": null,
   "id": "bc27dc68",
   "metadata": {
    "scrolled": false
   },
   "outputs": [],
   "source": [
    "# my_ts.query_map_sheets_by_polygon(my_polygon, mode=\"within\", print=True)"
   ]
  },
  {
   "attachments": {},
   "cell_type": "markdown",
   "id": "821197d5",
   "metadata": {},
   "source": [
    "Nothing was found - our polygon is too small for any maps to fall completely within it.\n",
    "\n",
    "Instead, to find map sheets which **intersect** with this polygon:"
   ]
  },
  {
   "cell_type": "code",
   "execution_count": null,
   "id": "01650bca",
   "metadata": {},
   "outputs": [],
   "source": [
    "# my_ts.query_map_sheets_by_polygon(my_polygon, mode=\"intersects\", print=True)"
   ]
  },
  {
   "cell_type": "code",
   "execution_count": null,
   "id": "9435d204",
   "metadata": {},
   "outputs": [],
   "source": [
    "len(my_ts.found_queries)"
   ]
  },
  {
   "attachments": {},
   "cell_type": "markdown",
   "id": "8c1716f2",
   "metadata": {},
   "source": [
    "To see what you've found, plot your query results on a map using the ``.plot_queries_on_map()`` method:"
   ]
  },
  {
   "cell_type": "code",
   "execution_count": null,
   "id": "91b75619",
   "metadata": {},
   "outputs": [],
   "source": [
    "my_ts.extract_wfs_id_nos()\n",
    "my_ts.plot_queries_on_map(map_extent=\"uk\", add_id=False)"
   ]
  },
  {
   "attachments": {},
   "cell_type": "markdown",
   "id": "c98aa16d",
   "metadata": {},
   "source": [
    "### 2. Finding map sheets which contain a set of coordinates."
   ]
  },
  {
   "attachments": {},
   "cell_type": "markdown",
   "id": "2959b937",
   "metadata": {},
   "source": [
    "The ``.query_map_sheets_by_coordinates()`` and ``.download_map_sheets_by_coordinates()`` methods can be used find and download map sheets which contain a set of coordinates.\n",
    "\n",
    "> **_NOTE:_** We use the ``append=True`` argument to ensure our new queries are appended to our existing list."
   ]
  },
  {
   "cell_type": "markdown",
   "id": "5a763b73",
   "metadata": {},
   "source": [
    "__**YOUR TURN**__: Find maps which intersect with the following coordinates: ``(-4.5, 55.4)``\n",
    "\n",
    "See [here](https://mapreader.readthedocs.io/en/latest/User-guide/Download.html#finding-map-sheets-which-contain-a-set-of-coordinates) in the docs."
   ]
  },
  {
   "cell_type": "code",
   "execution_count": null,
   "id": "127a83eb",
   "metadata": {},
   "outputs": [],
   "source": [
    "# my_ts.query_map_sheets_by_coordinates(\n",
    "#     (), \n",
    "#     print=True, \n",
    "#     append=True\n",
    "# )"
   ]
  },
  {
   "cell_type": "code",
   "execution_count": null,
   "id": "152a96c4",
   "metadata": {},
   "outputs": [],
   "source": [
    "len(my_ts.found_queries)"
   ]
  },
  {
   "attachments": {},
   "cell_type": "markdown",
   "id": "3e737f58",
   "metadata": {},
   "source": [
    "We've used the ``append=True`` argument and so, if you plot your found queries, you will see a new map sheet has been added to your queries list."
   ]
  },
  {
   "cell_type": "code",
   "execution_count": null,
   "id": "31ff431a",
   "metadata": {
    "scrolled": false
   },
   "outputs": [],
   "source": [
    "my_ts.plot_queries_on_map(map_extent=\"uk\", add_id=False)"
   ]
  },
  {
   "attachments": {},
   "cell_type": "markdown",
   "id": "b35fd60b",
   "metadata": {},
   "source": [
    "### 3. Finding map sheets which intersect with a line."
   ]
  },
  {
   "attachments": {},
   "cell_type": "markdown",
   "id": "00e4cf83",
   "metadata": {},
   "source": [
    "The ``.query_map_sheets_by_line()`` and ``.download_map_sheets_by_line()`` methods can be used find and download map sheets which intersect with a [shapely.LineString](https://shapely.readthedocs.io/en/stable/reference/shapely.LineString.html#shapely.LineString)."
   ]
  },
  {
   "attachments": {},
   "cell_type": "markdown",
   "id": "916b9081",
   "metadata": {},
   "source": [
    "#### Create a line"
   ]
  },
  {
   "cell_type": "code",
   "execution_count": null,
   "id": "8e3c663b",
   "metadata": {},
   "outputs": [],
   "source": [
    "from mapreader import create_line_from_latlons"
   ]
  },
  {
   "attachments": {},
   "cell_type": "markdown",
   "id": "31317260",
   "metadata": {},
   "source": [
    "__**YOUR TURN**__: Create a line using the following latlons: ``(56.5, -5), (57.0, -4.5)``\n",
    "\n",
    "See [here](https://mapreader.readthedocs.io/en/latest/User-guide/Download.html#finding-map-sheets-which-intersect-with-a-line) in the docs."
   ]
  },
  {
   "cell_type": "code",
   "execution_count": null,
   "id": "4685421d",
   "metadata": {},
   "outputs": [],
   "source": [
    "# my_line = create_line_from_latlons()"
   ]
  },
  {
   "attachments": {},
   "cell_type": "markdown",
   "id": "cf4f5bc1",
   "metadata": {},
   "source": [
    "#### Find maps"
   ]
  },
  {
   "attachments": {},
   "cell_type": "markdown",
   "id": "e79dd590",
   "metadata": {},
   "source": [
    "> **_NOTE:_** In the previous examples, we used the ``print=True`` argument to print our query results each time. We've now removed this so query results aren't being printed."
   ]
  },
  {
   "cell_type": "code",
   "execution_count": null,
   "id": "16ceb238",
   "metadata": {},
   "outputs": [],
   "source": [
    "# my_ts.query_map_sheets_by_line(my_line, append=True)"
   ]
  },
  {
   "cell_type": "code",
   "execution_count": null,
   "id": "afeb54cf",
   "metadata": {},
   "outputs": [],
   "source": [
    "len(my_ts.found_queries)"
   ]
  },
  {
   "attachments": {},
   "cell_type": "markdown",
   "id": "d0557a79",
   "metadata": {},
   "source": [
    "Again, after plotting your queries on a map, you'll see some new map sheets have been added to your queries list."
   ]
  },
  {
   "cell_type": "code",
   "execution_count": null,
   "id": "1761aa6d",
   "metadata": {},
   "outputs": [],
   "source": [
    "my_ts.plot_queries_on_map(map_extent=\"uk\", add_id=False)"
   ]
  },
  {
   "attachments": {},
   "cell_type": "markdown",
   "id": "8a070157",
   "metadata": {},
   "source": [
    "### 4. Finding map sheets using their WFS ID numbers."
   ]
  },
  {
   "attachments": {},
   "cell_type": "markdown",
   "id": "42324575",
   "metadata": {},
   "source": [
    "The ``.query_map_sheets_by_wfs_ids()`` and ``.download_map_sheets_by_wfs_ids()`` methods can be used find and download map sheets using their WFS ID numbers.\n",
    "\n",
    "These are the unique IDs for the WFS."
   ]
  },
  {
   "attachments": {},
   "cell_type": "markdown",
   "id": "ed39a9f2",
   "metadata": {},
   "source": [
    "#### One map at a time"
   ]
  },
  {
   "cell_type": "code",
   "execution_count": null,
   "id": "a0886d4b",
   "metadata": {},
   "outputs": [],
   "source": [
    "my_ts.query_map_sheets_by_wfs_ids(12, append=True)"
   ]
  },
  {
   "attachments": {},
   "cell_type": "markdown",
   "id": "a7f9e77f",
   "metadata": {},
   "source": [
    "#### Multiple maps at a time"
   ]
  },
  {
   "cell_type": "markdown",
   "id": "17ebd893",
   "metadata": {},
   "source": [
    "__**YOUR TURN**__: Find maps with the following WFS ids: ``[30, 37, 38]``\n",
    "\n",
    "See [here](https://mapreader.readthedocs.io/en/latest/User-guide/Download.html#finding-map-sheets-using-their-wfs-id-numbers) in docs."
   ]
  },
  {
   "cell_type": "code",
   "execution_count": null,
   "id": "e5236827",
   "metadata": {},
   "outputs": [],
   "source": [
    "# my_ts.query_map_sheets_by_wfs_ids([], append=True)"
   ]
  },
  {
   "cell_type": "code",
   "execution_count": null,
   "id": "cc049cfb",
   "metadata": {},
   "outputs": [],
   "source": [
    "len(my_ts.found_queries)"
   ]
  },
  {
   "cell_type": "code",
   "execution_count": null,
   "id": "2cc2abaa",
   "metadata": {},
   "outputs": [],
   "source": [
    "my_ts.plot_queries_on_map(map_extent=\"uk\", add_id=False)"
   ]
  },
  {
   "attachments": {},
   "cell_type": "markdown",
   "id": "dfe4f495",
   "metadata": {},
   "source": [
    "### 5. Finding map sheets by searching for a string in their metadata."
   ]
  },
  {
   "attachments": {},
   "cell_type": "markdown",
   "id": "ce0a497a",
   "metadata": {},
   "source": [
    "The ``.query_map_sheets_by_string()`` and ``.download_map_sheets_by_string()`` methods can be used find and download map sheets by searching for a string in their metadata.\n",
    "\n",
    "These methods use [regex string searching](https://docs.python.org/3/library/re.html) to find map sheets whose metadata contains a given string. \n",
    "Wildcards and regular expressions can therefore be used in the ``string`` argument."
   ]
  },
  {
   "cell_type": "code",
   "execution_count": null,
   "id": "68a5b805",
   "metadata": {},
   "outputs": [],
   "source": [
    "my_ts.query_map_sheets_by_string(\"Stirling\", append=True)"
   ]
  },
  {
   "cell_type": "code",
   "execution_count": null,
   "id": "3e0c152e",
   "metadata": {},
   "outputs": [],
   "source": [
    "len(my_ts.found_queries)"
   ]
  },
  {
   "cell_type": "code",
   "execution_count": null,
   "id": "853b7eda",
   "metadata": {},
   "outputs": [],
   "source": [
    "my_ts.plot_queries_on_map(map_extent=\"uk\", add_id=False)"
   ]
  },
  {
   "attachments": {},
   "cell_type": "markdown",
   "id": "ba5ea295",
   "metadata": {},
   "source": [
    "The above query command will search for \"Stirling\" in **all** metadata fields.\n",
    "\n",
    "If instead, you'd like to search a particular metadata field (e.g. \"IMAGEURL\"), you can specify the ``keys`` argument.\n",
    "\n",
    "> _**NOTE**_: You will need to have an idea of the structure of your metadata in order to do this. Use ``my_ts.features[0]`` to view the metadata for the first map sheet in our metadata, if you would like to see how our metadata is structured."
   ]
  },
  {
   "cell_type": "markdown",
   "id": "b5884d31",
   "metadata": {},
   "source": [
    "__**YOUR TURN**__: Explore the NLS metadata we are using for this workshop. You can do this either using the command below or by opening the json file found in ``\"../NLS_metadata/metadata_OS_Six_Inch_GB_WFS_light.json\"``"
   ]
  },
  {
   "cell_type": "code",
   "execution_count": null,
   "id": "96d4307d",
   "metadata": {},
   "outputs": [],
   "source": [
    "# my_ts.features[0]"
   ]
  },
  {
   "attachments": {},
   "cell_type": "markdown",
   "id": "f4704b2c",
   "metadata": {},
   "source": [
    "For the maps we are using in this workshop, it is possible to use the NLS Maps online collection to identify metadata strings to search for, like the words in the title or the unique ids that are present in the image URL. \n",
    "\n",
    "For example, if you navigate in a new browser window to https://maps.nls.uk/view/75650661, you can see one of the six-inch sheets. In MapReader, this can be selected by searching for \"75650661\" (the number at the end of the URL) in the \"IMAGEURL\" field.\n",
    "\n",
    "To find other maps, you can use the index of digitized one-inch maps provided by the NLS [here](https://maps.nls.uk/os/6inch-england-and-wales/)."
   ]
  },
  {
   "cell_type": "markdown",
   "id": "ed3750a6",
   "metadata": {},
   "source": [
    "__**YOUR TURN**__: Find https://maps.nls.uk/view/75650661 by searching for ``\"75650661\"`` in the ``\"IMAGEURL\"`` field of the metadata (remember this is a nested under the ``\"properties\"`` field).\n",
    "\n",
    "See [here](https://mapreader.readthedocs.io/en/latest/User-guide/Download.html#finding-map-sheets-by-searching-for-a-string-in-their-metadata) in docs (in advanced usage)."
   ]
  },
  {
   "cell_type": "code",
   "execution_count": null,
   "id": "0c7b6508",
   "metadata": {},
   "outputs": [],
   "source": [
    "# search_string = \"\"\n",
    "# keys = []"
   ]
  },
  {
   "cell_type": "code",
   "execution_count": null,
   "id": "9d344aa1",
   "metadata": {},
   "outputs": [],
   "source": [
    "# my_ts.query_map_sheets_by_string(\n",
    "#     search_string, \n",
    "#     keys, \n",
    "#     append=True,\n",
    "# )"
   ]
  },
  {
   "cell_type": "code",
   "execution_count": null,
   "id": "955ecfe9",
   "metadata": {},
   "outputs": [],
   "source": [
    "len(my_ts.found_queries)"
   ]
  },
  {
   "cell_type": "code",
   "execution_count": null,
   "id": "67353e11",
   "metadata": {},
   "outputs": [],
   "source": [
    "my_ts.plot_queries_on_map(map_extent=\"uk\", add_id=False)"
   ]
  },
  {
   "attachments": {},
   "cell_type": "markdown",
   "id": "660bba01",
   "metadata": {},
   "source": [
    "### Print found queries"
   ]
  },
  {
   "attachments": {},
   "cell_type": "markdown",
   "id": "4a074be0",
   "metadata": {},
   "source": [
    "You can print your queries list at any time using the ``.print_found_queries()`` method.\n",
    "\n",
    "This means you can run multiple queries and check what you've found at the end."
   ]
  },
  {
   "cell_type": "code",
   "execution_count": null,
   "id": "3c0aab9d",
   "metadata": {
    "scrolled": false
   },
   "outputs": [],
   "source": [
    "my_ts.print_found_queries()"
   ]
  },
  {
   "cell_type": "markdown",
   "id": "a484b74d",
   "metadata": {},
   "source": [
    "To save time downloading, we wont actually download any of the maps we've found. \n",
    "If you **did** want to do this, you would simply run ``my_ts.get_grid_bb()`` and then ``my_ts.download_maps_by_queries()``. \n",
    "\n",
    "You'll see this in the next notebook."
   ]
  },
  {
   "attachments": {},
   "cell_type": "markdown",
   "id": "d3ae6c76",
   "metadata": {},
   "source": [
    "-----"
   ]
  },
  {
   "attachments": {},
   "cell_type": "markdown",
   "id": "d356c4f5",
   "metadata": {},
   "source": [
    "# Documentation"
   ]
  },
  {
   "attachments": {},
   "cell_type": "markdown",
   "id": "ce9003d1",
   "metadata": {},
   "source": [
    "Please refer to the [MapReader documentation](https://mapreader.readthedocs.io/en/latest/) for more information."
   ]
  },
  {
   "cell_type": "markdown",
   "id": "b4f53249",
   "metadata": {},
   "source": [
    "---------"
   ]
  },
  {
   "cell_type": "markdown",
   "id": "aa54a7c9",
   "metadata": {},
   "source": [
    "Now head to part 1 of the workshop notebooks!"
   ]
  },
  {
   "cell_type": "markdown",
   "id": "df148fc1",
   "metadata": {},
   "source": []
  }
 ],
 "metadata": {
  "kernelspec": {
   "display_name": "mapreader_conda",
   "language": "python",
   "name": "python3"
  },
  "language_info": {
   "codemirror_mode": {
    "name": "ipython",
    "version": 3
   },
   "file_extension": ".py",
   "mimetype": "text/x-python",
   "name": "python",
   "nbconvert_exporter": "python",
   "pygments_lexer": "ipython3",
   "version": "3.10.13"
  }
 },
 "nbformat": 4,
 "nbformat_minor": 5
}
