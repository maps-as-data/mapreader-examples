{
 "cells": [
  {
   "attachments": {},
   "cell_type": "markdown",
   "id": "7a354e6d",
   "metadata": {},
   "source": [
    "# Mapreader Workshops 2024"
   ]
  },
  {
   "attachments": {},
   "cell_type": "markdown",
   "id": "1e640743",
   "metadata": {},
   "source": [
    "----"
   ]
  },
  {
   "cell_type": "markdown",
   "id": "f2353861",
   "metadata": {},
   "source": [
    "First check you have the correct version of MapReader: v1.3.2\n",
    "\n",
    "This can be downloaded from pypi using `pip install mapreader==1.3.2` or by checking out the repo at [this commit](https://github.com/Living-with-machines/MapReader/releases/tag/v1.3.2)"
   ]
  },
  {
   "cell_type": "code",
   "execution_count": 1,
   "id": "a0d31f88",
   "metadata": {},
   "outputs": [],
   "source": [
    "import mapreader\n",
    "assert mapreader.__version__ == '1.3.2'"
   ]
  },
  {
   "cell_type": "markdown",
   "id": "f65f140c",
   "metadata": {},
   "source": [
    "-------------"
   ]
  },
  {
   "attachments": {},
   "cell_type": "markdown",
   "id": "c9d85bb2",
   "metadata": {},
   "source": [
    "# Download\n",
    "\n",
    "https://mapreader.readthedocs.io/en/latest/User-guide/Download.html"
   ]
  },
  {
   "attachments": {},
   "cell_type": "markdown",
   "id": "970fc259",
   "metadata": {},
   "source": [
    "In this notebook, we will download pre-selected six maps for use in the workshop. \n",
    "\n",
    "Again, we will use the ``SheetDownloader`` and metadata from the NLS stored in the ``persistent_data`` directory of the mapreader repository.\n",
    "This can be set up in the same way as the previous notebook."
   ]
  },
  {
   "attachments": {},
   "cell_type": "markdown",
   "id": "8896df49",
   "metadata": {},
   "source": [
    "## Set up the ``SheetDownloader``"
   ]
  },
  {
   "cell_type": "code",
   "execution_count": null,
   "id": "0be3e76b",
   "metadata": {},
   "outputs": [],
   "source": [
    "from mapreader import SheetDownloader"
   ]
  },
  {
   "cell_type": "markdown",
   "id": "6c29a45d",
   "metadata": {},
   "source": [
    "To get your download URL, please set up a free account on [maptiler](https://cloud.maptiler.com/maps/) and go to https://cloud.maptiler.com/tiles/uk-osgb10k1888/ to find the tile layer for the 2nd edition OS 6inch maps of the UK.\n",
    "\n",
    "The URL you will need is the XYZ url listed under the Raster tiles heading."
   ]
  },
  {
   "attachments": {},
   "cell_type": "markdown",
   "id": "7f5b2de8",
   "metadata": {},
   "source": [
    "__**YOUR TURN**__: Set up your ``my_ts`` by passing the ``metadata_path`` and ``download_url`` arguments to the ``SheetDownloader`` .\n",
    "\n",
    "See [here](https://mapreader.readthedocs.io/en/latest/User-guide/Download.html#sheetdownloader) in the docs."
   ]
  },
  {
   "cell_type": "code",
   "execution_count": null,
   "id": "f96b8495",
   "metadata": {},
   "outputs": [],
   "source": [
    "# my_ts = SheetDownloader(\n",
    "#    metadata_path=\"../NLS_metadata/metadata_OS_Six_Inch_GB_WFS_light.json\",\n",
    "#    download_url=\"\",\n",
    "# )"
   ]
  },
  {
   "attachments": {},
   "cell_type": "markdown",
   "id": "5c6534f3",
   "metadata": {},
   "source": [
    "## Select maps to download"
   ]
  },
  {
   "cell_type": "code",
   "execution_count": null,
   "id": "15fc781f",
   "metadata": {},
   "outputs": [],
   "source": [
    "# This is a preselected list of map sheets from the coast near Glasgow in Scotland\n",
    "nls_image_url_ids = [\n",
    "    \"75650661\",\n",
    "    \"75650697\",\n",
    "    \"75650823\",\n",
    "    \"75650907\",\n",
    "    \"75650892\",\n",
    "    \"75650931\",\n",
    "]"
   ]
  },
  {
   "cell_type": "code",
   "execution_count": null,
   "id": "eaa08e20",
   "metadata": {},
   "outputs": [],
   "source": [
    "my_ts.found_queries = []"
   ]
  },
  {
   "cell_type": "code",
   "execution_count": null,
   "id": "5b8fc78a",
   "metadata": {},
   "outputs": [],
   "source": [
    "for nls_image_url_id in nls_image_url_ids:\n",
    "    my_ts.query_map_sheets_by_string(\n",
    "        nls_image_url_id, keys=[\"properties\", \"IMAGEURL\"], append=True\n",
    "    )"
   ]
  },
  {
   "cell_type": "code",
   "execution_count": null,
   "id": "90124a25",
   "metadata": {},
   "outputs": [],
   "source": [
    "len(my_ts.found_queries)"
   ]
  },
  {
   "cell_type": "code",
   "execution_count": null,
   "id": "747d1b15",
   "metadata": {},
   "outputs": [],
   "source": [
    "my_ts.extract_wfs_id_nos()\n",
    "my_ts.plot_queries_on_map(map_extent=\"uk\", add_id=False)"
   ]
  },
  {
   "cell_type": "markdown",
   "id": "52bac4fe",
   "metadata": {},
   "source": [
    "## Download query results"
   ]
  },
  {
   "cell_type": "markdown",
   "id": "6b11faf4",
   "metadata": {},
   "source": [
    "To download the image files of the maps from the NLS tile server, you need to first set a zoom level using the ``.get_grid_bb()`` method.\n",
    "\n",
    "We are using zoom level 17 - which will give us high resolution images."
   ]
  },
  {
   "cell_type": "code",
   "execution_count": null,
   "id": "2e0e3a19",
   "metadata": {},
   "outputs": [],
   "source": [
    "my_ts.get_grid_bb(17)"
   ]
  },
  {
   "cell_type": "markdown",
   "id": "6d21c9b6",
   "metadata": {},
   "source": [
    "Then, you can download your map sheets using ``.download_map_sheets_by_queries()``:\n",
    "\n",
    "> _**NOTE**_: We have left ``path_save`` and ``metadata_fname`` as the default values, so maps will be saved in ``\"./maps/\"`` and their metadata will be saved as ``\"./maps/metadata.csv\"``."
   ]
  },
  {
   "cell_type": "code",
   "execution_count": null,
   "id": "a30ee868",
   "metadata": {},
   "outputs": [],
   "source": [
    "my_ts.download_map_sheets_by_queries()"
   ]
  },
  {
   "attachments": {},
   "cell_type": "markdown",
   "id": "f444f750",
   "metadata": {},
   "source": [
    "-----"
   ]
  },
  {
   "attachments": {},
   "cell_type": "markdown",
   "id": "05f9b159",
   "metadata": {},
   "source": [
    "# Load"
   ]
  },
  {
   "attachments": {},
   "cell_type": "markdown",
   "id": "de095715",
   "metadata": {},
   "source": [
    "MapReader’s ``Load`` subpackage is used to load, visualize and patchify images (e.g. maps) saved locally.\n",
    "\n",
    "In this workshop, we will load the images that we have just downloaded from the NLS tile server.\n",
    "These are saved in ``\"./maps/\"``.\n",
    "\n",
    "However, you could use any images that you have saved locally. \n",
    "See the [Input Guidance](https://mapreader.readthedocs.io/en/latest/Input-guidance.html) section of the MapReader documentation for more details about file formats and metadata requirements."
   ]
  },
  {
   "attachments": {},
   "cell_type": "markdown",
   "id": "a57f8458",
   "metadata": {},
   "source": [
    "## Import the ``loader`` and create your ``my_files`` object."
   ]
  },
  {
   "cell_type": "code",
   "execution_count": null,
   "id": "998110a1",
   "metadata": {},
   "outputs": [],
   "source": [
    "from mapreader import loader"
   ]
  },
  {
   "attachments": {},
   "cell_type": "markdown",
   "id": "673274e7",
   "metadata": {},
   "source": [
    "__**YOUR TURN**__: Load your maps. They are saved in ``\"./maps/\"`` as ``\"*.png\"`` files.\n",
    "\n",
    "See [here](https://mapreader.readthedocs.io/en/latest/User-guide/Load.html#load-images-and-metadata) in the docs."
   ]
  },
  {
   "cell_type": "code",
   "execution_count": null,
   "id": "9b0f3507",
   "metadata": {
    "scrolled": true
   },
   "outputs": [],
   "source": [
    "# my_files = loader()"
   ]
  },
  {
   "attachments": {},
   "cell_type": "markdown",
   "id": "3b3f0b31",
   "metadata": {},
   "source": [
    "### Add metadata"
   ]
  },
  {
   "attachments": {},
   "cell_type": "markdown",
   "id": "33b0aa78",
   "metadata": {},
   "source": [
    "Add the ``metadata.csv`` file that was created when downloading your maps."
   ]
  },
  {
   "attachments": {},
   "cell_type": "markdown",
   "id": "d9f0721e",
   "metadata": {},
   "source": [
    "__**YOUR TURN**__: Add your metadata. It is saved in ``\"./maps/metadata.csv\"``\n",
    "\n",
    "See [here](https://mapreader.readthedocs.io/en/latest/User-guide/Load.html#load-images-and-metadata) in the docs."
   ]
  },
  {
   "cell_type": "code",
   "execution_count": null,
   "id": "f2eecd9d",
   "metadata": {},
   "outputs": [],
   "source": [
    "# my_files.add_metadata()"
   ]
  },
  {
   "cell_type": "code",
   "execution_count": null,
   "id": "1074e7ca",
   "metadata": {},
   "outputs": [],
   "source": [
    "parent_df, patch_df = my_files.convert_images()\n",
    "parent_df.head()"
   ]
  },
  {
   "attachments": {},
   "cell_type": "markdown",
   "id": "7e67959f",
   "metadata": {},
   "source": [
    "## Patchify"
   ]
  },
  {
   "attachments": {},
   "cell_type": "markdown",
   "id": "d9fcfef6",
   "metadata": {},
   "source": [
    "The ``.patchify_all()`` method is used to slice your map images into patches. \n",
    "\n",
    "The method used to patchify your maps is selected by specifying ``method=\"pixel\"`` or ``method=\"meters\"``. This determines whether your ``patch_size`` is interpreted with units of ``pixel`` or ``meters``. "
   ]
  },
  {
   "attachments": {},
   "cell_type": "markdown",
   "id": "be5fed64",
   "metadata": {},
   "source": [
    "#### Patchify by pixel"
   ]
  },
  {
   "attachments": {},
   "cell_type": "markdown",
   "id": "bbff216f",
   "metadata": {},
   "source": [
    "> _**NOTE**_: We have used ``add_to_parents=False`` here so that these patches are not added to the ``my_files`` object. This is simply so that we don't have two sets of patches added after running both ``.patchify_all()`` commands."
   ]
  },
  {
   "cell_type": "code",
   "execution_count": null,
   "id": "4abbd4c0",
   "metadata": {
    "scrolled": true
   },
   "outputs": [],
   "source": [
    "my_files.patchify_all(method=\"pixel\", patch_size=1000, add_to_parents=False)"
   ]
  },
  {
   "attachments": {},
   "cell_type": "markdown",
   "id": "f60d6750",
   "metadata": {},
   "source": [
    "#### Patchify by meters"
   ]
  },
  {
   "attachments": {},
   "cell_type": "markdown",
   "id": "1c1c383e",
   "metadata": {},
   "source": [
    "You will only be able to use ``method=\"meters\"`` if you have coordinates saved for each of your map images. \n",
    "These coordinates should correspond to the \"bounding box\" of your map image (minimum x, minimum y, maximum x and maximum y) and thereby associate the left, bottom, right and top edges of your map image to their geospatial locations.\n",
    "\n",
    "These can be added by running either ``.add_metadata()`` (assuming your metadata contains these coordinates) or, if your images contain georefencing information, ``.add_geo_info()``."
   ]
  },
  {
   "cell_type": "markdown",
   "id": "99c8e6bf",
   "metadata": {},
   "source": [
    "__**YOUR TURN**__: Patchify your maps into 100 meter patches. Unlike last time, we do want to load these patches into our `my_files` object and so we should set ``add_to_parents=True``.\n",
    "\n",
    "See [here](https://mapreader.readthedocs.io/en/latest/User-guide/Load.html#patchify) in the docs."
   ]
  },
  {
   "cell_type": "code",
   "execution_count": null,
   "id": "0f33b361",
   "metadata": {
    "scrolled": true
   },
   "outputs": [],
   "source": [
    "# my_files.patchify_all(method=\"\", patch_size=)"
   ]
  },
  {
   "attachments": {},
   "cell_type": "markdown",
   "id": "9943557d",
   "metadata": {},
   "source": [
    "You will see your patches are saved in separate directories, each indicating the patch size and method used."
   ]
  },
  {
   "attachments": {},
   "cell_type": "markdown",
   "id": "e05f0631",
   "metadata": {},
   "source": [
    "### Visualize results"
   ]
  },
  {
   "attachments": {},
   "cell_type": "markdown",
   "id": "39297920",
   "metadata": {},
   "source": [
    "``MapReader`` also contains some useful functions for visualizing your patches.\n",
    "\n",
    "For example, the ``.show_sample()`` method can be used to show a random sample of your patches:"
   ]
  },
  {
   "cell_type": "code",
   "execution_count": null,
   "id": "988bb6e2",
   "metadata": {
    "scrolled": false
   },
   "outputs": [],
   "source": [
    "my_files.show_sample(num_samples=3, tree_level=\"patch\", random_seed=1)"
   ]
  },
  {
   "attachments": {},
   "cell_type": "markdown",
   "id": "d8a95b55",
   "metadata": {},
   "source": [
    "You may also want to see all the patches created from one of your parent images. \n",
    "This can be done using the ``.show_parent()`` method:"
   ]
  },
  {
   "cell_type": "code",
   "execution_count": null,
   "id": "b16e24a3",
   "metadata": {
    "scrolled": true
   },
   "outputs": [],
   "source": [
    "my_files.show_parent(\"map_75650661.png\")"
   ]
  },
  {
   "attachments": {},
   "cell_type": "markdown",
   "id": "dca829d2",
   "metadata": {},
   "source": [
    "The ``.calc_pixel_stats()`` method can be used to calculate statistics on the pixel intensities of each patch.\n",
    "\n",
    "Patches with higher pixel intensities are closer to white and so are more likely to contain blank space whereas patches with lower pixel intensities are more likely to contain features. Knowing pixel intensities can be useful for sorting patches when annotating. "
   ]
  },
  {
   "cell_type": "code",
   "execution_count": null,
   "id": "ee2afef6",
   "metadata": {
    "scrolled": false
   },
   "outputs": [],
   "source": [
    "my_files.calc_pixel_stats()"
   ]
  },
  {
   "attachments": {},
   "cell_type": "markdown",
   "id": "94a48f79",
   "metadata": {},
   "source": [
    "By running the ``.convert_images()`` method, you will see that the means and standard deviations of pixel intensities of each patch have been added to your ``my_files`` object."
   ]
  },
  {
   "cell_type": "code",
   "execution_count": null,
   "id": "3f470613",
   "metadata": {
    "scrolled": false
   },
   "outputs": [],
   "source": [
    "parent_df, patch_df = my_files.convert_images()\n",
    "patch_df.head()"
   ]
  },
  {
   "attachments": {},
   "cell_type": "markdown",
   "id": "ce582b97",
   "metadata": {},
   "source": [
    "To save these outputs, use the ``save=True`` argument.\n",
    "\n",
    "> _**NOTE**_: By default, this will save your outputs as ``.csv`` files. If instead, you'd like to save as ``.xslx`` files, add ``save_format=\"excel\"`` to your command."
   ]
  },
  {
   "cell_type": "code",
   "execution_count": null,
   "id": "7fff23bb",
   "metadata": {},
   "outputs": [],
   "source": [
    "parent_df, patch_df = my_files.convert_images(save=True)"
   ]
  },
  {
   "cell_type": "code",
   "execution_count": null,
   "id": "f5a07a75",
   "metadata": {
    "scrolled": true
   },
   "outputs": [],
   "source": [
    "parent_df, patch_df = my_files.convert_images(save=True, save_format=\"excel\")"
   ]
  },
  {
   "cell_type": "markdown",
   "id": "39a0d5ad",
   "metadata": {},
   "source": [
    "Or to save your outputs as a `.geojson` file which can be loaded into GIS software (e.g QGIS), you can use the `save_patches_to_geojson()` method.\n",
    "\n",
    "For now, this will just contain all the information in your patch dataframe but will eventually contain all the patch predictions and confidence scores too."
   ]
  },
  {
   "cell_type": "code",
   "execution_count": null,
   "id": "a2c8539e",
   "metadata": {},
   "outputs": [],
   "source": [
    "my_files.save_patches_to_geojson(\"test_patches.geojson\")"
   ]
  },
  {
   "attachments": {},
   "cell_type": "markdown",
   "id": "d3ae6c76",
   "metadata": {},
   "source": [
    "-----"
   ]
  },
  {
   "attachments": {},
   "cell_type": "markdown",
   "id": "d356c4f5",
   "metadata": {},
   "source": [
    "# Documentation"
   ]
  },
  {
   "attachments": {},
   "cell_type": "markdown",
   "id": "ce9003d1",
   "metadata": {},
   "source": [
    "Please refer to the [MapReader documentation](https://mapreader.readthedocs.io/en/latest/) for more information."
   ]
  },
  {
   "cell_type": "markdown",
   "id": "b4f53249",
   "metadata": {},
   "source": [
    "---------"
   ]
  },
  {
   "cell_type": "markdown",
   "id": "aa54a7c9",
   "metadata": {},
   "source": [
    "Now head to part 2 of the workshop notebooks!"
   ]
  },
  {
   "cell_type": "markdown",
   "id": "df148fc1",
   "metadata": {},
   "source": []
  }
 ],
 "metadata": {
  "kernelspec": {
   "display_name": "mapreader_conda",
   "language": "python",
   "name": "python3"
  },
  "language_info": {
   "codemirror_mode": {
    "name": "ipython",
    "version": 3
   },
   "file_extension": ".py",
   "mimetype": "text/x-python",
   "name": "python",
   "nbconvert_exporter": "python",
   "pygments_lexer": "ipython3",
   "version": "3.12.2"
  }
 },
 "nbformat": 4,
 "nbformat_minor": 5
}
