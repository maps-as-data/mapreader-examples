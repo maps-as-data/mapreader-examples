{
 "cells": [
  {
   "attachments": {},
   "cell_type": "markdown",
   "id": "7a354e6d",
   "metadata": {},
   "source": [
    "# Mapreader Workshop - June 7th-8th 2023"
   ]
  },
  {
   "attachments": {},
   "cell_type": "markdown",
   "id": "1e640743",
   "metadata": {},
   "source": [
    "----"
   ]
  },
  {
   "cell_type": "markdown",
   "id": "f2353861",
   "metadata": {},
   "source": [
    "First check you have the correct version of MapReader. \n",
    "For the June 2023 workshop, this was v1.0.1.post0.dev9\n",
    "\n",
    "This can be downloaded from pypi using `pip install mapreader==1.0.1.post0.dev9` or by checking out the repo at [this commit](https://github.com/Living-with-machines/MapReader/releases/tag/v1.0.1)"
   ]
  },
  {
   "cell_type": "code",
   "execution_count": 1,
   "id": "a0d31f88",
   "metadata": {},
   "outputs": [],
   "source": [
    "import mapreader"
   ]
  },
  {
   "cell_type": "code",
   "execution_count": 3,
   "id": "f3dc389a",
   "metadata": {},
   "outputs": [],
   "source": [
    "assert mapreader.__version__ == '1.0.1.post0.dev9'"
   ]
  },
  {
   "cell_type": "markdown",
   "id": "f65f140c",
   "metadata": {},
   "source": [
    "-------------"
   ]
  },
  {
   "attachments": {},
   "cell_type": "markdown",
   "id": "970fc259",
   "metadata": {},
   "source": [
    "MapReader accepts different types of map images as input. We're focusing today on re-using already georeferenced maps that are available as XYZ tile layers from libraries, archives, or other services."
   ]
  },
  {
   "attachments": {},
   "cell_type": "markdown",
   "id": "c9d85bb2",
   "metadata": {},
   "source": [
    "# Download"
   ]
  },
  {
   "attachments": {},
   "cell_type": "markdown",
   "id": "ac2d0b27",
   "metadata": {},
   "source": [
    "MapReader’s ``Download`` subpackage is used to download maps stored on as XYZ tile layers on a tile server. It contains two classes for downloading maps:\n",
    "\n",
    "1. ``SheetDownloader`` - This can be used to download map sheets and relies on information provided in a metadata json file.\n",
    "\n",
    "2. ``Downloader`` - This is used to download maps using polygons and can be used even if you don’t have a metadata json file."
   ]
  },
  {
   "attachments": {},
   "cell_type": "markdown",
   "id": "6093560e",
   "metadata": {},
   "source": [
    "In this workshop, we will use the ``SheetDownloader`` along with metadata stored in the ``persistent_data`` directory of the mapreader repository."
   ]
  },
  {
   "attachments": {},
   "cell_type": "markdown",
   "id": "8896df49",
   "metadata": {},
   "source": [
    "## Import the ``SheetDownloader`` and create your ``my_ts`` object."
   ]
  },
  {
   "cell_type": "code",
   "execution_count": 1,
   "id": "0be3e76b",
   "metadata": {},
   "outputs": [],
   "source": [
    "from mapreader import SheetDownloader"
   ]
  },
  {
   "cell_type": "code",
   "execution_count": 2,
   "id": "f96b8495",
   "metadata": {},
   "outputs": [],
   "source": [
    "metadata_path = \"../NLS_metadata/metadata_OS_One_Inch_GB_WFS_light.json\"\n",
    "download_url = \"https://geo.nls.uk/maps/os/1inch_2nd_ed/{z}/{x}/{y}.png\""
   ]
  },
  {
   "attachments": {},
   "cell_type": "markdown",
   "id": "7f5b2de8",
   "metadata": {},
   "source": [
    "__**EXERCISE**__: Set up your ``my_ts`` by passing the ``metadata_path`` and ``download_url`` arguments to the ``SheetDownloader`` ."
   ]
  },
  {
   "cell_type": "code",
   "execution_count": null,
   "id": "64c7c19b",
   "metadata": {
    "scrolled": true
   },
   "outputs": [],
   "source": [
    "# my_ts = SheetDownloader()\n",
    "my_ts = SheetDownloader(metadata_path=metadata_path, download_url=download_url)"
   ]
  },
  {
   "attachments": {},
   "cell_type": "markdown",
   "id": "43ae765f",
   "metadata": {},
   "source": [
    "You can view the boundaries of the map sheets included in your metadata by calling the ``.plot_all_metadata_on_map()`` method:"
   ]
  },
  {
   "cell_type": "code",
   "execution_count": null,
   "id": "5d4f11ca",
   "metadata": {},
   "outputs": [],
   "source": [
    "my_ts.plot_all_metadata_on_map()"
   ]
  },
  {
   "attachments": {},
   "cell_type": "markdown",
   "id": "a29449f6",
   "metadata": {},
   "source": [
    "The numbers shown are the WFS ID numbers of the maps."
   ]
  },
  {
   "attachments": {},
   "cell_type": "markdown",
   "id": "5c6534f3",
   "metadata": {},
   "source": [
    "## Select maps to download"
   ]
  },
  {
   "attachments": {},
   "cell_type": "markdown",
   "id": "e0b29f7b",
   "metadata": {},
   "source": [
    "Your ``SheetDownloader`` instance (``my_ts``) can be used to query and download map sheets using a number of methods:\n",
    "\n",
    "1. Any which are within or intersect/overlap with a polygon.\n",
    "2.  Any which contain a set of given coordinates.\n",
    "3. Any which intersect with a line.\n",
    "4. By WFS ID numbers.\n",
    "5. By searching for a string within a metadata field.\n",
    "\n",
    "These methods can be used to either directly download maps, or to create a list of queries which can interacted with and downloaded subsequently.\n",
    "\n",
    "We will be using the querying option."
   ]
  },
  {
   "attachments": {},
   "cell_type": "markdown",
   "id": "78dbb884",
   "metadata": {},
   "source": [
    "### 1. Finding map sheets which overlap or intersect with a polygon."
   ]
  },
  {
   "attachments": {},
   "cell_type": "markdown",
   "id": "8df7a992",
   "metadata": {},
   "source": [
    "The ``.query_map_sheets_by_polygon()`` and ``.download_map_sheets_by_polygon()`` methods can be used find and download map sheets which are within or intersect/overlap with a [shapely.Polygon](https://shapely.readthedocs.io/en/stable/reference/shapely.Polygon.html#shapely.Polygon).\n",
    "\n",
    "These methods have two modes:\n",
    "\n",
    "- \"within\" - This finds map sheets whose bounds are completely within the given polygon.\n",
    "- \"intersects\" - This finds map sheets which intersect/overlap with the given polygon.\n",
    "\n",
    "The ``mode`` can be selected by specifying ``mode=\"within\"`` or ``mode=\"intersects\"``."
   ]
  },
  {
   "attachments": {},
   "cell_type": "markdown",
   "id": "d91fc9cb",
   "metadata": {},
   "source": [
    "#### Create a polygon"
   ]
  },
  {
   "cell_type": "code",
   "execution_count": null,
   "id": "bb923720",
   "metadata": {},
   "outputs": [],
   "source": [
    "from mapreader import create_polygon_from_latlons"
   ]
  },
  {
   "attachments": {},
   "cell_type": "markdown",
   "id": "6d77e0ed",
   "metadata": {},
   "source": [
    "__**EXERCISE**__: Create a polygon using the following latlons: ``55.6, -3.5, 56, -2.8``"
   ]
  },
  {
   "cell_type": "code",
   "execution_count": null,
   "id": "5dbe1b30",
   "metadata": {},
   "outputs": [],
   "source": [
    "# my_polygon = create_polygon_from_latlons()"
   ]
  },
  {
   "attachments": {},
   "cell_type": "markdown",
   "id": "97d3a07e",
   "metadata": {},
   "source": [
    "#### Find maps"
   ]
  },
  {
   "attachments": {},
   "cell_type": "markdown",
   "id": "7fb2137d",
   "metadata": {},
   "source": [
    "To find map sheets which fall **within** the bounds of this polygon:"
   ]
  },
  {
   "cell_type": "code",
   "execution_count": null,
   "id": "bc27dc68",
   "metadata": {
    "scrolled": false
   },
   "outputs": [],
   "source": [
    "my_ts.query_map_sheets_by_polygon(my_polygon, mode=\"within\", print=True)"
   ]
  },
  {
   "attachments": {},
   "cell_type": "markdown",
   "id": "821197d5",
   "metadata": {},
   "source": [
    "Nothing was found - our polygon is too small for any maps to fall completely within it.\n",
    "\n",
    "Instead, to find map sheets which **intersect** with this polygon:"
   ]
  },
  {
   "cell_type": "code",
   "execution_count": null,
   "id": "01650bca",
   "metadata": {},
   "outputs": [],
   "source": [
    "my_ts.query_map_sheets_by_polygon(my_polygon, mode=\"intersects\", print=True)"
   ]
  },
  {
   "attachments": {},
   "cell_type": "markdown",
   "id": "8c1716f2",
   "metadata": {},
   "source": [
    "To see what you've found, plot your query results on a map using the ``.plot_queries_on_map()`` method:"
   ]
  },
  {
   "cell_type": "code",
   "execution_count": null,
   "id": "91b75619",
   "metadata": {},
   "outputs": [],
   "source": [
    "my_ts.plot_queries_on_map(map_extent=\"uk\")"
   ]
  },
  {
   "attachments": {},
   "cell_type": "markdown",
   "id": "c98aa16d",
   "metadata": {},
   "source": [
    "### 2. Finding map sheets which contain a set of coordinates."
   ]
  },
  {
   "attachments": {},
   "cell_type": "markdown",
   "id": "2959b937",
   "metadata": {},
   "source": [
    "The ``.query_map_sheets_by_coordinates()`` and ``.download_map_sheets_by_coordinates()`` methods can be used find and download map sheets which contain a set of coordinates.\n",
    "\n",
    "> **_NOTE:_** We use the ``append=True`` argument to ensure our new queries are appended to our existing list."
   ]
  },
  {
   "cell_type": "code",
   "execution_count": null,
   "id": "127a83eb",
   "metadata": {},
   "outputs": [],
   "source": [
    "my_ts.query_map_sheets_by_coordinates((-4.5, 55.4), print=True, append=True)"
   ]
  },
  {
   "attachments": {},
   "cell_type": "markdown",
   "id": "3e737f58",
   "metadata": {},
   "source": [
    "We've used the ``append=True`` argument and so, if you plot your found queries, you will see a new map sheet has been added to your queries list."
   ]
  },
  {
   "cell_type": "code",
   "execution_count": null,
   "id": "31ff431a",
   "metadata": {
    "scrolled": false
   },
   "outputs": [],
   "source": [
    "my_ts.plot_queries_on_map(map_extent=\"uk\")"
   ]
  },
  {
   "attachments": {},
   "cell_type": "markdown",
   "id": "b35fd60b",
   "metadata": {},
   "source": [
    "### 3. Finding map sheets which intersect with a line."
   ]
  },
  {
   "attachments": {},
   "cell_type": "markdown",
   "id": "00e4cf83",
   "metadata": {},
   "source": [
    "The ``.query_map_sheets_by_line()`` and ``.download_map_sheets_by_line()`` methods can be used find and download map sheets which intersect with a [shapely.LineString](https://shapely.readthedocs.io/en/stable/reference/shapely.LineString.html#shapely.LineString)."
   ]
  },
  {
   "attachments": {},
   "cell_type": "markdown",
   "id": "916b9081",
   "metadata": {},
   "source": [
    "#### Create a line"
   ]
  },
  {
   "cell_type": "code",
   "execution_count": null,
   "id": "8e3c663b",
   "metadata": {},
   "outputs": [],
   "source": [
    "from mapreader import create_line_from_latlons"
   ]
  },
  {
   "attachments": {},
   "cell_type": "markdown",
   "id": "31317260",
   "metadata": {},
   "source": [
    "__**EXERCISE**__: Create a line using the following latlons: ``(56.5, -5), (57.0, -4.5)``"
   ]
  },
  {
   "cell_type": "code",
   "execution_count": null,
   "id": "4685421d",
   "metadata": {},
   "outputs": [],
   "source": [
    "# my_line = create_line_from_latlons()"
   ]
  },
  {
   "attachments": {},
   "cell_type": "markdown",
   "id": "cf4f5bc1",
   "metadata": {},
   "source": [
    "#### Find maps"
   ]
  },
  {
   "attachments": {},
   "cell_type": "markdown",
   "id": "e79dd590",
   "metadata": {},
   "source": [
    "> **_NOTE:_** In the previous examples, we used the ``print=True`` argument to print our query results each time. We've now removed this so query results aren't being printed."
   ]
  },
  {
   "cell_type": "code",
   "execution_count": null,
   "id": "16ceb238",
   "metadata": {},
   "outputs": [],
   "source": [
    "my_ts.query_map_sheets_by_line(my_line, append=True)"
   ]
  },
  {
   "attachments": {},
   "cell_type": "markdown",
   "id": "d0557a79",
   "metadata": {},
   "source": [
    "Again, after plotting your queries on a map, you'll see some new map sheets have been added to your queries list."
   ]
  },
  {
   "cell_type": "code",
   "execution_count": null,
   "id": "1761aa6d",
   "metadata": {},
   "outputs": [],
   "source": [
    "my_ts.plot_queries_on_map(map_extent=\"uk\")"
   ]
  },
  {
   "attachments": {},
   "cell_type": "markdown",
   "id": "8a070157",
   "metadata": {},
   "source": [
    "### 4. Finding map sheets using their WFS ID numbers."
   ]
  },
  {
   "attachments": {},
   "cell_type": "markdown",
   "id": "42324575",
   "metadata": {},
   "source": [
    "The ``.query_map_sheets_by_wfs_ids()`` and ``.download_map_sheets_by_wfs_ids()`` methods can be used find and download map sheets using their WFS ID numbers.\n",
    "\n",
    "These are the numbers that are being plotted on the above maps."
   ]
  },
  {
   "attachments": {},
   "cell_type": "markdown",
   "id": "ed39a9f2",
   "metadata": {},
   "source": [
    "#### One map at a time"
   ]
  },
  {
   "cell_type": "code",
   "execution_count": null,
   "id": "a0886d4b",
   "metadata": {},
   "outputs": [],
   "source": [
    "my_ts.query_map_sheets_by_wfs_ids(12, append=True)"
   ]
  },
  {
   "attachments": {},
   "cell_type": "markdown",
   "id": "a7f9e77f",
   "metadata": {},
   "source": [
    "#### Multiple maps at a time"
   ]
  },
  {
   "cell_type": "code",
   "execution_count": null,
   "id": "e5236827",
   "metadata": {},
   "outputs": [],
   "source": [
    "my_ts.query_map_sheets_by_wfs_ids([30, 37, 38], append=True)"
   ]
  },
  {
   "cell_type": "code",
   "execution_count": null,
   "id": "2cc2abaa",
   "metadata": {},
   "outputs": [],
   "source": [
    "my_ts.plot_queries_on_map(map_extent=\"uk\")"
   ]
  },
  {
   "attachments": {},
   "cell_type": "markdown",
   "id": "dfe4f495",
   "metadata": {},
   "source": [
    "### 5. Finding map sheets by searching for a string in their metadata."
   ]
  },
  {
   "attachments": {},
   "cell_type": "markdown",
   "id": "ce0a497a",
   "metadata": {},
   "source": [
    "The ``.query_map_sheets_by_string()`` and ``.download_map_sheets_by_string()`` methods can be used find and download map sheets by searching for a string in their metadata.\n",
    "\n",
    "These methods use [regex string searching](https://docs.python.org/3/library/re.html) to find map sheets whose metadata contains a given string. \n",
    "Wildcards and regular expressions can therefore be used in the ``string`` argument."
   ]
  },
  {
   "cell_type": "code",
   "execution_count": null,
   "id": "68a5b805",
   "metadata": {},
   "outputs": [],
   "source": [
    "my_ts.query_map_sheets_by_string(\"Stirling\", append=True)"
   ]
  },
  {
   "cell_type": "code",
   "execution_count": null,
   "id": "853b7eda",
   "metadata": {},
   "outputs": [],
   "source": [
    "my_ts.plot_queries_on_map(map_extent=\"uk\")"
   ]
  },
  {
   "attachments": {},
   "cell_type": "markdown",
   "id": "ba5ea295",
   "metadata": {},
   "source": [
    "The above query command will search for \"Stirling\" in **all** metadata fields.\n",
    "\n",
    "If instead, you'd like to search a particular metadata field (e.g. \"IMAGEURL\"), you can specify the ``keys`` argument.\n",
    "\n",
    "> _**NOTE**_: You will need to have an idea of the structure of your metadata in order to do this. Use ``my_ts.features[0]`` to view the metadata for the first map sheet in our metadata, if you would like to see how our metadata is structured."
   ]
  },
  {
   "attachments": {},
   "cell_type": "markdown",
   "id": "f4704b2c",
   "metadata": {},
   "source": [
    "For the maps we are using in this workshop, it is possible to use the NLS Maps online collection to identify metadata strings to search for, like the words in the title or the unique ids that are present in the image URL. \n",
    "\n",
    "For example, if you navigate in a new browser window to https://maps.nls.uk/view/74487492, you can see one of the one-inch sheets. This can be selected by searching for \"74487492\" (the number at the end of the URL) in the \"IMAGEURL\" field.\n",
    "\n",
    "To find other maps, you can use the index of digitized one-inch maps provided by the NLS [here](https://maps.nls.uk/os/one-inch-2nd/)."
   ]
  },
  {
   "cell_type": "code",
   "execution_count": null,
   "id": "9d344aa1",
   "metadata": {},
   "outputs": [],
   "source": [
    "my_ts.query_map_sheets_by_string(\n",
    "    \"74487492\", keys=[\"properties\", \"IMAGEURL\"], append=True\n",
    ")"
   ]
  },
  {
   "cell_type": "code",
   "execution_count": null,
   "id": "67353e11",
   "metadata": {},
   "outputs": [],
   "source": [
    "my_ts.plot_queries_on_map(map_extent=\"uk\")"
   ]
  },
  {
   "attachments": {},
   "cell_type": "markdown",
   "id": "660bba01",
   "metadata": {},
   "source": [
    "### Print found queries"
   ]
  },
  {
   "attachments": {},
   "cell_type": "markdown",
   "id": "4a074be0",
   "metadata": {},
   "source": [
    "You can print your queries list at any time using the ``.print_found_queries()`` method.\n",
    "\n",
    "This means you can run multiple queries and check what you've found at the end."
   ]
  },
  {
   "cell_type": "code",
   "execution_count": null,
   "id": "3c0aab9d",
   "metadata": {
    "scrolled": false
   },
   "outputs": [],
   "source": [
    "my_ts.print_found_queries()"
   ]
  },
  {
   "attachments": {},
   "cell_type": "markdown",
   "id": "d3b96681",
   "metadata": {},
   "source": [
    "## Download query results"
   ]
  },
  {
   "attachments": {},
   "cell_type": "markdown",
   "id": "caa0bf9d",
   "metadata": {},
   "source": [
    "To download the image files of the maps from the NLS tile server, you need to first set a zoom level using the ``.get_grid_bb()`` method."
   ]
  },
  {
   "cell_type": "code",
   "execution_count": null,
   "id": "8fab8e72",
   "metadata": {},
   "outputs": [],
   "source": [
    "my_ts.get_grid_bb(14)"
   ]
  },
  {
   "attachments": {},
   "cell_type": "markdown",
   "id": "073b4349",
   "metadata": {},
   "source": [
    "Then, you can download your map sheets using ``.download_map_sheets_by_queries()``:\n",
    "\n",
    "> _**NOTE**_: We have left ``path_save`` and ``metadata_fname`` as the default values, so maps will be saved in ``\"./maps/\"`` and their metadata will be saved as ``\"./maps/metadata.csv\"``."
   ]
  },
  {
   "attachments": {},
   "cell_type": "markdown",
   "id": "0f5339b5",
   "metadata": {},
   "source": [
    "> _**NOTE**_: Downloading maps will take some time depending on the number of sheets being downloaded!"
   ]
  },
  {
   "cell_type": "code",
   "execution_count": null,
   "id": "cbc4762d",
   "metadata": {},
   "outputs": [],
   "source": [
    "my_ts.download_map_sheets_by_queries(overwrite=True)"
   ]
  },
  {
   "attachments": {},
   "cell_type": "markdown",
   "id": "1400b269",
   "metadata": {},
   "source": [
    "## Quick download\n",
    "\n",
    "The cells above demonstrate the different ways we can specify which maps to we are interested.\n",
    "\n",
    "For the workshop we do not want to spend a long time waiting for the maps to download. Therefore we will reset the query list with a shorter list before downloading the maps."
   ]
  },
  {
   "cell_type": "code",
   "execution_count": null,
   "id": "5b8fc78a",
   "metadata": {},
   "outputs": [],
   "source": [
    "metadata_path = \"../NLS_metadata/metadata_OS_One_Inch_GB_WFS_light.json\"\n",
    "download_url = \"https://geo.nls.uk/maps/os/1inch_2nd_ed/{z}/{x}/{y}.png\"\n",
    "\n",
    "# This is a preselected list of map sheets from the coast near the midland valley in Scotland\n",
    "nls_image_url_ids = [\n",
    "    \"74488562\",\n",
    "    \"74488580\",\n",
    "    \"74488586\",\n",
    "    \"74488689\",\n",
    "    \"74488700\",\n",
    "    \"74488705\",\n",
    "    \"74488722\",\n",
    "    \"74488742\",\n",
    "]\n",
    "\n",
    "my_ts = SheetDownloader(metadata_path=metadata_path, download_url=download_url)\n",
    "\n",
    "for nls_image_url_id in nls_image_url_ids:\n",
    "    print(nls_image_url_id)\n",
    "    my_ts.query_map_sheets_by_string(\n",
    "        nls_image_url_id, keys=[\"properties\", \"IMAGEURL\"], append=True\n",
    "    )\n",
    "\n",
    "my_ts.get_grid_bb(14)\n",
    "my_ts.plot_queries_on_map(map_extent=\"uk\")\n",
    "\n",
    "# Now actually do the download\n",
    "my_ts.download_map_sheets_by_queries()"
   ]
  },
  {
   "attachments": {},
   "cell_type": "markdown",
   "id": "f444f750",
   "metadata": {},
   "source": [
    "-----"
   ]
  },
  {
   "attachments": {},
   "cell_type": "markdown",
   "id": "05f9b159",
   "metadata": {},
   "source": [
    "# Load"
   ]
  },
  {
   "attachments": {},
   "cell_type": "markdown",
   "id": "de095715",
   "metadata": {},
   "source": [
    "MapReader’s ``Load`` subpackage is used to load, visualize and patchify images (e.g. maps) saved locally.\n",
    "\n",
    "In this workshop, we will load the images that we have just downloaded from the NLS tile server.\n",
    "These are saved in \"maps/\".\n",
    "\n",
    "![image.png](attachment:image.png)\n",
    "\n",
    "However, you could use any map images that you have saved locally. \n",
    "See the [Input Guidance](https://mapreader.readthedocs.io/en/latest/Input-guidance.html) section of the MapReader documentation for more details about file formats and metadata requirements."
   ]
  },
  {
   "attachments": {},
   "cell_type": "markdown",
   "id": "a57f8458",
   "metadata": {},
   "source": [
    "## Import the ``loader`` and create your ``my_files`` object."
   ]
  },
  {
   "cell_type": "code",
   "execution_count": null,
   "id": "998110a1",
   "metadata": {},
   "outputs": [],
   "source": [
    "from mapreader import loader"
   ]
  },
  {
   "attachments": {},
   "cell_type": "markdown",
   "id": "673274e7",
   "metadata": {},
   "source": [
    "__**EXERCISE**__: Load your maps. They are saved in ``\"./maps/*png\"``"
   ]
  },
  {
   "cell_type": "code",
   "execution_count": null,
   "id": "9b0f3507",
   "metadata": {
    "scrolled": true
   },
   "outputs": [],
   "source": [
    "# my_files = loader()"
   ]
  },
  {
   "attachments": {},
   "cell_type": "markdown",
   "id": "3b3f0b31",
   "metadata": {},
   "source": [
    "### Add metadata"
   ]
  },
  {
   "attachments": {},
   "cell_type": "markdown",
   "id": "33b0aa78",
   "metadata": {},
   "source": [
    "Add the ``metadata.csv`` file that was created when downloading your maps."
   ]
  },
  {
   "attachments": {},
   "cell_type": "markdown",
   "id": "d9f0721e",
   "metadata": {},
   "source": [
    "__**EXERCISE**__: Add your metadata. It is saved in ``\"./maps/metadata.csv\"``"
   ]
  },
  {
   "cell_type": "code",
   "execution_count": null,
   "id": "f2eecd9d",
   "metadata": {},
   "outputs": [],
   "source": [
    "# my_files.add_metadata()"
   ]
  },
  {
   "cell_type": "code",
   "execution_count": null,
   "id": "1074e7ca",
   "metadata": {},
   "outputs": [],
   "source": [
    "parent_df, patch_df = my_files.convert_images()\n",
    "parent_df.head()"
   ]
  },
  {
   "attachments": {},
   "cell_type": "markdown",
   "id": "7e67959f",
   "metadata": {},
   "source": [
    "## Patchify"
   ]
  },
  {
   "attachments": {},
   "cell_type": "markdown",
   "id": "d9fcfef6",
   "metadata": {},
   "source": [
    "The ``.patchify_all()`` method is used to slice your map images into patches. \n",
    "\n",
    "The method used to patchify your maps is selected by specifying ``method=\"pixel\"`` or ``method=\"meters\"``. This determines whether your ``patch_size`` is interpreted with units of ``pixel`` or ``meters``. "
   ]
  },
  {
   "attachments": {},
   "cell_type": "markdown",
   "id": "be5fed64",
   "metadata": {},
   "source": [
    "#### Patchify by pixel"
   ]
  },
  {
   "cell_type": "code",
   "execution_count": null,
   "id": "4abbd4c0",
   "metadata": {
    "scrolled": true
   },
   "outputs": [],
   "source": [
    "my_files.patchify_all(method=\"pixel\", patch_size=200)"
   ]
  },
  {
   "attachments": {},
   "cell_type": "markdown",
   "id": "f60d6750",
   "metadata": {},
   "source": [
    "#### Patchify by meters"
   ]
  },
  {
   "attachments": {},
   "cell_type": "markdown",
   "id": "1c1c383e",
   "metadata": {},
   "source": [
    "You will only be able to use ``method=\"meters\"`` if you have coordinates saved for each of your map images. \n",
    "These coordinates should correspond to the \"bounding box\" of your map image (minimum x, minimum y, maximum x and maximum y) and thereby associate the left, bottom, right and top edges of your map image to their geospatial locations.\n",
    "\n",
    "These can be added by running either ``.add_metadata()`` (assuming your metadata contains these coordinates) or, if your images contain georefencing information, ``.add_geo_info()``."
   ]
  },
  {
   "attachments": {},
   "cell_type": "markdown",
   "id": "bbff216f",
   "metadata": {},
   "source": [
    "> _**NOTE**_: We have used ``add_to_parents=False`` here so that these patches are not added to the ``my_files`` object. This is simply so that we don't have two sets of patches added after running both ``.patchify_all()`` commands."
   ]
  },
  {
   "cell_type": "code",
   "execution_count": null,
   "id": "0f33b361",
   "metadata": {
    "scrolled": true
   },
   "outputs": [],
   "source": [
    "my_files.patchify_all(method=\"meters\", patch_size=5000, add_to_parents=False)"
   ]
  },
  {
   "attachments": {},
   "cell_type": "markdown",
   "id": "9943557d",
   "metadata": {},
   "source": [
    "You will see your patches are saved in separate directories, each indicating the patch size and method used.\n",
    "\n",
    "![image.png](attachment:image.png)"
   ]
  },
  {
   "attachments": {},
   "cell_type": "markdown",
   "id": "e05f0631",
   "metadata": {},
   "source": [
    "### Visualize results"
   ]
  },
  {
   "attachments": {},
   "cell_type": "markdown",
   "id": "39297920",
   "metadata": {},
   "source": [
    "``MapReader`` also contains some useful functions for visualizing your patches.\n",
    "\n",
    "For example, the ``.show_sample()`` method can be used to show a random sample of your patches:"
   ]
  },
  {
   "cell_type": "code",
   "execution_count": null,
   "id": "988bb6e2",
   "metadata": {
    "scrolled": false
   },
   "outputs": [],
   "source": [
    "my_files.show_sample(num_samples=3, tree_level=\"patch\", random_seed=1)"
   ]
  },
  {
   "attachments": {},
   "cell_type": "markdown",
   "id": "d8a95b55",
   "metadata": {},
   "source": [
    "You may also want to see all the patches created from one of your parent images. \n",
    "This can be done using the ``.show_parent()`` method:"
   ]
  },
  {
   "cell_type": "code",
   "execution_count": null,
   "id": "b16e24a3",
   "metadata": {
    "scrolled": true
   },
   "outputs": [],
   "source": [
    "my_files.show_parent(\"map_74488562.png\")"
   ]
  },
  {
   "attachments": {},
   "cell_type": "markdown",
   "id": "dca829d2",
   "metadata": {},
   "source": [
    "The ``.calc_pixel_stats()`` method can be used to calculate statistics on the pixel intensities of each patch.\n",
    "\n",
    "This can be useful when annotating patches, as patches with higher pixel intensities contain more color (i.e. are more likely to contain features as opposed to be blank space)."
   ]
  },
  {
   "cell_type": "code",
   "execution_count": null,
   "id": "ee2afef6",
   "metadata": {
    "scrolled": false
   },
   "outputs": [],
   "source": [
    "my_files.calc_pixel_stats()"
   ]
  },
  {
   "attachments": {},
   "cell_type": "markdown",
   "id": "94a48f79",
   "metadata": {},
   "source": [
    "By running the ``.convert_images()`` method, you will see that the means and standard deviations of pixel intensities of each patch have been added to your ``my_files`` object."
   ]
  },
  {
   "cell_type": "code",
   "execution_count": null,
   "id": "3f470613",
   "metadata": {
    "scrolled": false
   },
   "outputs": [],
   "source": [
    "parent_df, patch_df = my_files.convert_images()\n",
    "patch_df.head()"
   ]
  },
  {
   "attachments": {},
   "cell_type": "markdown",
   "id": "ce582b97",
   "metadata": {},
   "source": [
    "To save these outputs, use the ``save=True`` argument.\n",
    "\n",
    "> _**NOTE**_: By default, this will save your outputs as ``.csv`` files. If instead, you'd like to save as ``.xslx`` files, add ``save_format=\"excel\"`` to your command."
   ]
  },
  {
   "cell_type": "code",
   "execution_count": null,
   "id": "f5a07a75",
   "metadata": {
    "scrolled": true
   },
   "outputs": [],
   "source": [
    "parent_df, patch_df = my_files.convert_images(save=True, save_format=\"excel\")"
   ]
  },
  {
   "cell_type": "code",
   "execution_count": null,
   "id": "a2c8539e",
   "metadata": {},
   "outputs": [],
   "source": [
    "# my_files.save_patches_to_geojson()"
   ]
  },
  {
   "attachments": {},
   "cell_type": "markdown",
   "id": "d3ae6c76",
   "metadata": {},
   "source": [
    "-----"
   ]
  },
  {
   "attachments": {},
   "cell_type": "markdown",
   "id": "718d06a7",
   "metadata": {},
   "source": [
    "# Annotate"
   ]
  },
  {
   "attachments": {},
   "cell_type": "markdown",
   "id": "d48c5ab4",
   "metadata": {},
   "source": [
    "Mapreader's ``Annotate`` subpackage is used to annotate images/patches. "
   ]
  },
  {
   "attachments": {},
   "cell_type": "markdown",
   "id": "bf0e72ad",
   "metadata": {},
   "source": [
    "## Create an annotation tasks file"
   ]
  },
  {
   "attachments": {},
   "cell_type": "markdown",
   "id": "f9d8444d",
   "metadata": {},
   "source": [
    "The first step of annotating your patches is to decide the visual features you would like to annotate and define labels for these.\n",
    "This is done using a separate file (``annotation_tasks.yaml``) which contains all the information needed to carry out an annotation task.\n",
    "\n",
    "> _**NOTE**_: This file has already been created and saved in the repo, so you don't need to worry about making it. However, if you do want to create your own, copy and edit the template in the \"worked_examples\" directory."
   ]
  },
  {
   "attachments": {},
   "cell_type": "markdown",
   "id": "9258cd6b",
   "metadata": {},
   "source": [
    "Your ``annotation_tasks.yaml`` file should have the following structure:\n",
    "\n",
    "```yaml \n",
    "tasks:\n",
    "  your_task_name:\n",
    "    labels: [\"your_label_1\", \"your_label_2\", \"your_label_3\"]\n",
    "\n",
    "paths:\n",
    "  your_annotation_set:\n",
    "        patch_paths: \"./path/to/patches/*png\"\n",
    "        parent_paths: \"./path/to/parents/*png\"\n",
    "        annot_dir: \"./path/to/save/annotations\"\n",
    "```"
   ]
  },
  {
   "attachments": {},
   "cell_type": "markdown",
   "id": "7d390e4b",
   "metadata": {},
   "source": [
    "We will be annotating buildings in our 200 pixel patches. \n",
    "\n",
    "Our ``annotation_tasks.yaml`` file will therefore look like:\n",
    "\n",
    "```yaml\n",
    "tasks:\n",
    "  buildings:\n",
    "    labels: [\"no_building\", \"building\"]\n",
    "\n",
    "paths:\n",
    "  set_001:\n",
    "        patch_paths: \"./patches_200_pixel/*png\"\n",
    "        parent_paths: \"./maps/*png\"\n",
    "        annot_dir: \"./annotations\"\n",
    "```"
   ]
  },
  {
   "attachments": {},
   "cell_type": "markdown",
   "id": "2237bb1b",
   "metadata": {},
   "source": [
    "## Annotate your images"
   ]
  },
  {
   "attachments": {},
   "cell_type": "markdown",
   "id": "b6713049",
   "metadata": {},
   "source": [
    "Before you begin annotating your images, you must tell MapReader:\n",
    "\n",
    "- who is doing the annotations (``userID``),\n",
    "- where to find your ``annotation_tasks.yaml`` (``annotation_tasks_file``),\n",
    "- which task you’d like to run (``task``),\n",
    "- which annotation_set you would like to run on (``annotation_set``).\n",
    "\n",
    "We will also use the ``sort_by=\"mean\"`` option, so that the patches with the highest pixel intensities are shown first."
   ]
  },
  {
   "cell_type": "code",
   "execution_count": null,
   "id": "1f3aa808",
   "metadata": {},
   "outputs": [],
   "source": [
    "from mapreader.annotate.utils import prepare_annotation"
   ]
  },
  {
   "cell_type": "code",
   "execution_count": null,
   "id": "d47bbbd5",
   "metadata": {},
   "outputs": [],
   "source": [
    "userID = \"workshop\"  # using \"workshop\" as your user ID will load previous annotations\n",
    "annotation_tasks_file = \"annotation_tasks.yaml\"\n",
    "task = \"buildings\"\n",
    "annotation_set = \"set_001\""
   ]
  },
  {
   "cell_type": "code",
   "execution_count": null,
   "id": "e5f4f4f6",
   "metadata": {
    "scrolled": true
   },
   "outputs": [],
   "source": [
    "annotation = prepare_annotation(\n",
    "    userID,\n",
    "    annotation_tasks_file=annotation_tasks_file,\n",
    "    task=task,\n",
    "    annotation_set=annotation_set,\n",
    ")"
   ]
  },
  {
   "attachments": {},
   "cell_type": "markdown",
   "id": "01956c65",
   "metadata": {},
   "source": [
    "__**EXERCISE**__: Annotate some patches."
   ]
  },
  {
   "cell_type": "code",
   "execution_count": null,
   "id": "44efe317",
   "metadata": {},
   "outputs": [],
   "source": [
    "annotation"
   ]
  },
  {
   "attachments": {},
   "cell_type": "markdown",
   "id": "d7fb83d3",
   "metadata": {},
   "source": [
    "## Save your annotations"
   ]
  },
  {
   "attachments": {},
   "cell_type": "markdown",
   "id": "6d079757",
   "metadata": {},
   "source": [
    "Once you've finished annotating, you will then need to save your annotations using the ``save_annotation`` function.\n",
    "\n",
    "![image.png](attachment:image.png)\n",
    "\n",
    "This will save your annotations as a ``.csv`` file, called ``coastline_#scai#.csv`` which will look something like:\n",
    "\n",
    "|  | image_id | image_path | label |\n",
    "|- | -- | -- | -- |\n",
    "|**0** | patch-1994-1994-2991-2991-#map_74490356.png#.png | /Users/rwood/LwM/MapReader/worked_examples/geo... | 2 |\n",
    "|**1** | patch-6622-5676-7424-5888-#map_74487492.png#.png | /Users/rwood/LwM/MapReader/worked_examples/geo... | 1 |\n",
    "|**2** | patch-3960-3960-4950-4950-#map_74489053.png#.png | /Users/rwood/LwM/MapReader/worked_examples/geo... | 2 |\n",
    "|**3** | patch-3988-0-4985-997-#map_74490356.png#.png | /Users/rwood/LwM/MapReader/worked_examples/geo... | 1 |"
   ]
  },
  {
   "cell_type": "code",
   "execution_count": null,
   "id": "f5d054b7",
   "metadata": {},
   "outputs": [],
   "source": [
    "from mapreader.annotate.utils import save_annotation"
   ]
  },
  {
   "cell_type": "code",
   "execution_count": null,
   "id": "abfe1f69",
   "metadata": {},
   "outputs": [],
   "source": [
    "save_annotation(\n",
    "    annotation,\n",
    "    userID,\n",
    "    annotation_tasks_file=annotation_tasks_file,\n",
    "    task=task,\n",
    "    annotation_set=annotation_set,\n",
    ")"
   ]
  },
  {
   "attachments": {},
   "cell_type": "markdown",
   "id": "4c21ad32",
   "metadata": {},
   "source": [
    "----"
   ]
  },
  {
   "attachments": {},
   "cell_type": "markdown",
   "id": "6151ccfd",
   "metadata": {},
   "source": [
    "# Classify"
   ]
  },
  {
   "attachments": {},
   "cell_type": "markdown",
   "id": "0433e1a7",
   "metadata": {},
   "source": [
    "Mapreader's ``Classify`` subpackage is used to 1) train or fine-tune a CV (computer vision) model to recognize visual features based on your annotated patches and 2) use your model to predict the labels of patches across entire datasets.\n",
    "\n",
    "It contains two important classes:\n",
    "\n",
    "- ``AnnotationsLoader`` - This is used to load and review your annotations and to create datasets and dataloaders which are used to train your model.\n",
    "- ``ClassifierContainer`` - This is used to set up your model, train/fine-tune it using your datasets and to infer labels on new datasets."
   ]
  },
  {
   "attachments": {},
   "cell_type": "markdown",
   "id": "d90aa0e9",
   "metadata": {},
   "source": [
    "## Load annotations"
   ]
  },
  {
   "cell_type": "code",
   "execution_count": null,
   "id": "ea3c5860",
   "metadata": {},
   "outputs": [],
   "source": [
    "from mapreader import AnnotationsLoader"
   ]
  },
  {
   "cell_type": "code",
   "execution_count": null,
   "id": "37fbf016",
   "metadata": {},
   "outputs": [],
   "source": [
    "annotated_images = AnnotationsLoader()"
   ]
  },
  {
   "attachments": {},
   "cell_type": "markdown",
   "id": "15fef8ac",
   "metadata": {},
   "source": [
    "__**EXERCISE**__: Load your annotations. They are saved as ``\"./annotations/coastline_#scai#.csv\"``"
   ]
  },
  {
   "cell_type": "code",
   "execution_count": null,
   "id": "a8829374",
   "metadata": {},
   "outputs": [],
   "source": [
    "# annotated_images.load()"
   ]
  },
  {
   "attachments": {},
   "cell_type": "markdown",
   "id": "7ab44301",
   "metadata": {},
   "source": [
    "### Review labels"
   ]
  },
  {
   "attachments": {},
   "cell_type": "markdown",
   "id": "4f883e9d",
   "metadata": {},
   "source": [
    "Before training your model, you should check your annotations and ensure you are happy with your labels.\n",
    "\n",
    "This can be done using the ``.review_labels()`` method.\n",
    "\n",
    "For example, to re-label image with ``id: 5``, type \"5\" into the text box, press enter, then type the label (number) you'd like to re-label it as and press enter again."
   ]
  },
  {
   "attachments": {},
   "cell_type": "markdown",
   "id": "f807fc40",
   "metadata": {},
   "source": [
    "__**EXERCISE**__: Review your annotations."
   ]
  },
  {
   "cell_type": "code",
   "execution_count": null,
   "id": "553abb9b",
   "metadata": {},
   "outputs": [],
   "source": [
    "annotated_images.review_labels()"
   ]
  },
  {
   "attachments": {},
   "cell_type": "markdown",
   "id": "601bb0dc",
   "metadata": {},
   "source": [
    "### Create datasets and dataloaders"
   ]
  },
  {
   "attachments": {},
   "cell_type": "markdown",
   "id": "7b5e1897",
   "metadata": {},
   "source": [
    "Before using your annotated images to train your model, you will first need to:\n",
    "\n",
    "1. Split your annotated images into “train”, “val” and and, optionally, “test” datasets.\n",
    "2. Define some transforms which will be applied to your images to ensure your they are in the right format.\n",
    "3. Create dataloaders which can be used to load small batches of your dataset during training/inference and apply the transforms to each image in the batch.\n",
    "\n",
    "> __**NOTE**__: Go to the [Classify](https://mapreader.readthedocs.io/en/latest/User-guide/Classify.html#prepare-datasets-and-dataloaders) section of the user-guide for more information."
   ]
  },
  {
   "attachments": {},
   "cell_type": "markdown",
   "id": "822b70d2",
   "metadata": {},
   "source": [
    "The ``.create_dataloaders()`` method carries out these three steps. \n",
    "\n",
    "> __**NOTE**__: The default train/val/test split, image transforms and sampler will be used if no arguments are supplied to the ``.create_dataloader()`` method. "
   ]
  },
  {
   "cell_type": "code",
   "execution_count": null,
   "id": "3674d08e",
   "metadata": {},
   "outputs": [],
   "source": [
    "dataloaders = annotated_images.create_dataloaders()"
   ]
  },
  {
   "attachments": {},
   "cell_type": "markdown",
   "id": "2a022df6",
   "metadata": {},
   "source": [
    "The code below can be used to see the number of instances of each labelled image in each dataset. \n",
    "\n",
    "This shows the importance of having enough annotations so that each dataset contains a good sample of patches for training, validating and testing your model."
   ]
  },
  {
   "cell_type": "code",
   "execution_count": null,
   "id": "01de9249",
   "metadata": {},
   "outputs": [],
   "source": [
    "for set_name, dataset in annotated_images.datasets.items():\n",
    "    print(f'Number of instances of each label in \"{set_name}\":')\n",
    "    value_counts = dataset.patch_df[\"label\"].value_counts()\n",
    "    print(f\"no_railspace:\\t{value_counts[0]}\")\n",
    "    print(f\"railspace:\\t{value_counts[1]}\\n\")"
   ]
  },
  {
   "attachments": {},
   "cell_type": "markdown",
   "id": "df183fc3",
   "metadata": {},
   "source": [
    "## Train your model"
   ]
  },
  {
   "attachments": {},
   "cell_type": "markdown",
   "id": "358cd4d7",
   "metadata": {},
   "source": [
    "### Set up your ``my_classifier`` object"
   ]
  },
  {
   "cell_type": "code",
   "execution_count": null,
   "id": "f6276606",
   "metadata": {},
   "outputs": [],
   "source": [
    "from mapreader import ClassifierContainer"
   ]
  },
  {
   "cell_type": "code",
   "execution_count": null,
   "id": "5a0ca8ad",
   "metadata": {},
   "outputs": [],
   "source": [
    "my_classifier = ClassifierContainer(\"resnet18\", labels_map={0:\"no_building\",1:\"building\"}, dataloaders)"
   ]
  },
  {
   "cell_type": "code",
   "execution_count": null,
   "id": "23a7fee1",
   "metadata": {},
   "outputs": [],
   "source": [
    "my_classifier.add_criterion(\"cross-entropy\")"
   ]
  },
  {
   "cell_type": "code",
   "execution_count": null,
   "id": "322c0c3a",
   "metadata": {},
   "outputs": [],
   "source": [
    "params2optimize = my_classifier.generate_layerwise_lrs(min_lr=1e-4, max_lr=1e-3)\n",
    "my_classifier.initialize_optimizer(params2optimize=params2optimize)"
   ]
  },
  {
   "cell_type": "code",
   "execution_count": null,
   "id": "e922b956",
   "metadata": {},
   "outputs": [],
   "source": [
    "my_classifier.initialize_scheduler()"
   ]
  },
  {
   "attachments": {},
   "cell_type": "markdown",
   "id": "725c1ba2",
   "metadata": {},
   "source": [
    "### Train your model using your \"train\" and \"val\" datasets"
   ]
  },
  {
   "cell_type": "code",
   "execution_count": null,
   "id": "6e15d869",
   "metadata": {},
   "outputs": [],
   "source": [
    "my_classifier.train(num_epochs=10)"
   ]
  },
  {
   "attachments": {},
   "cell_type": "markdown",
   "id": "4dc69346",
   "metadata": {},
   "source": [
    "### Visualize results"
   ]
  },
  {
   "cell_type": "code",
   "execution_count": null,
   "id": "cee305a1",
   "metadata": {},
   "outputs": [],
   "source": [
    "my_classifier.plot_metric(\n",
    "    y_axis=[\"epoch_loss_train\", \"epoch_loss_val\"],\n",
    "    y_label=\"Loss\",\n",
    "    legends=[\"Train\", \"Valid\"],\n",
    ")"
   ]
  },
  {
   "attachments": {},
   "cell_type": "markdown",
   "id": "cff1d150",
   "metadata": {},
   "source": [
    "__**EXERCISE**__: Try visualizing another metric. Use ``list(my_classifier.metrics.keys())`` to see your options."
   ]
  },
  {
   "cell_type": "code",
   "execution_count": null,
   "id": "0951864e",
   "metadata": {},
   "outputs": [],
   "source": [
    "# my_classifier.plot_metric()"
   ]
  },
  {
   "attachments": {},
   "cell_type": "markdown",
   "id": "9d72f456",
   "metadata": {},
   "source": [
    "### Test"
   ]
  },
  {
   "attachments": {},
   "cell_type": "markdown",
   "id": "fa193808",
   "metadata": {},
   "source": [
    "The \"test\" dataset can be used to test out your model on previously unseen images. \n",
    "\n",
    "As these are already annotated, it makes it easy to understand whether the model is performing as expected."
   ]
  },
  {
   "cell_type": "code",
   "execution_count": null,
   "id": "b065601b",
   "metadata": {},
   "outputs": [],
   "source": [
    "my_classifier.inference(set_name=\"test\")"
   ]
  },
  {
   "cell_type": "code",
   "execution_count": null,
   "id": "0191a110",
   "metadata": {},
   "outputs": [],
   "source": [
    "my_classifier.show_inference_sample_results(label=\"building\", min_conf=0.8)"
   ]
  },
  {
   "attachments": {},
   "cell_type": "markdown",
   "id": "e822ac30",
   "metadata": {},
   "source": [
    "# Infer "
   ]
  },
  {
   "attachments": {},
   "cell_type": "markdown",
   "id": "f95630bc",
   "metadata": {},
   "source": [
    "The fine-tuned model can now be used to infer, or predict, the labels of \"unseen\" patches.\n",
    "\n",
    "To show how inference works, we will predict the labels on patches from just one parent image. \n",
    "\n",
    "We will do this by creating a ``subset_patch_df`` from our previously saved ``patch_df.xlsx``.\n",
    "Our new ``subset_patch_df`` will only contain the information of patches from ``map_74488700.png``."
   ]
  },
  {
   "cell_type": "code",
   "execution_count": null,
   "id": "edaabe9e",
   "metadata": {},
   "outputs": [],
   "source": [
    "import pandas as pd\n",
    "\n",
    "patch_df = pd.read_excel(\"./patch_df.xlsx\", index_col=0)  # load our patch_df.xlsx file\n",
    "subset_patch_df = patch_df[\n",
    "    patch_df[\"parent_id\"] == \"map_74488700.png\"\n",
    "]  # filter for our chosen parent image\n",
    "subset_patch_df.head()"
   ]
  },
  {
   "attachments": {},
   "cell_type": "markdown",
   "id": "0fedfc30",
   "metadata": {},
   "source": [
    "> __**NOTE**__: MapReader can be used to predict the labels on entire datasets and so creating a ``subset_patch_df`` is not needed in most use cases."
   ]
  },
  {
   "attachments": {},
   "cell_type": "markdown",
   "id": "b12f48db",
   "metadata": {},
   "source": [
    "### Create a dataset (``infer``) from our ``subset_patch_df``"
   ]
  },
  {
   "cell_type": "code",
   "execution_count": null,
   "id": "f482f071",
   "metadata": {},
   "outputs": [],
   "source": [
    "from mapreader import PatchDataset"
   ]
  },
  {
   "cell_type": "code",
   "execution_count": null,
   "id": "8757dc4f",
   "metadata": {},
   "outputs": [],
   "source": [
    "infer = PatchDataset(subset_patch_df, transform=\"val\", patch_paths_col=\"image_path\")"
   ]
  },
  {
   "attachments": {},
   "cell_type": "markdown",
   "id": "94eb2966",
   "metadata": {},
   "source": [
    "### Load dataset into ``my_classifier``"
   ]
  },
  {
   "cell_type": "code",
   "execution_count": null,
   "id": "b9a1cc46",
   "metadata": {},
   "outputs": [],
   "source": [
    "my_classifier.load_dataset(infer, \"infer\")"
   ]
  },
  {
   "attachments": {},
   "cell_type": "markdown",
   "id": "af9e461f",
   "metadata": {},
   "source": [
    "### Run model inference"
   ]
  },
  {
   "cell_type": "code",
   "execution_count": null,
   "id": "f47f6608",
   "metadata": {
    "scrolled": false
   },
   "outputs": [],
   "source": [
    "my_classifier.inference(\"infer\")"
   ]
  },
  {
   "attachments": {},
   "cell_type": "markdown",
   "id": "36991793",
   "metadata": {},
   "source": [
    "### Visualize results"
   ]
  },
  {
   "cell_type": "code",
   "execution_count": null,
   "id": "7e41c777",
   "metadata": {},
   "outputs": [],
   "source": [
    "my_classifier.show_inference_sample_results(\"building\", 6, set_name=\"infer\")"
   ]
  },
  {
   "attachments": {},
   "cell_type": "markdown",
   "id": "fd63ec08",
   "metadata": {},
   "source": [
    "### Save results to metadata"
   ]
  },
  {
   "attachments": {},
   "cell_type": "markdown",
   "id": "ad7459e3",
   "metadata": {},
   "source": [
    "First, we need to add the predicted label, its indices and the confidence of the prediction to our ``infer`` dataset.\n",
    "\n",
    "This is done by adding the values to an ``infer_df`` which we create from the the ``.patch_df`` attribute of our ``infer`` dataset."
   ]
  },
  {
   "cell_type": "code",
   "execution_count": null,
   "id": "8f27eee3",
   "metadata": {},
   "outputs": [],
   "source": [
    "infer_df = infer.patch_df.copy()"
   ]
  },
  {
   "cell_type": "code",
   "execution_count": null,
   "id": "9c436e24",
   "metadata": {},
   "outputs": [],
   "source": [
    "import numpy as np\n",
    "\n",
    "infer_df[\"predicted_label\"] = my_classifier.pred_label\n",
    "infer_df[\"pred\"] = my_classifier.pred_label_indices\n",
    "infer_df[\"conf\"] = np.array(my_classifier.pred_conf).max(axis=1)\n",
    "\n",
    "infer_df.reset_index(names=\"name\", inplace=True)\n",
    "infer_df.head()"
   ]
  },
  {
   "attachments": {},
   "cell_type": "markdown",
   "id": "02280479",
   "metadata": {},
   "source": [
    "We can then load our patches and add the metadata from our ``infer.patch_df``."
   ]
  },
  {
   "cell_type": "code",
   "execution_count": null,
   "id": "85dd41cb",
   "metadata": {},
   "outputs": [],
   "source": [
    "from mapreader import load_patches"
   ]
  },
  {
   "cell_type": "code",
   "execution_count": null,
   "id": "438d5700",
   "metadata": {},
   "outputs": [],
   "source": [
    "my_maps = load_patches(\n",
    "    \"./patches_200_pixel/*74488700*png\", parent_paths=\"./maps/*74488700.png\"\n",
    ")"
   ]
  },
  {
   "cell_type": "code",
   "execution_count": null,
   "id": "734f324c",
   "metadata": {},
   "outputs": [],
   "source": [
    "my_maps.add_metadata(infer_df, ignore_mismatch=True, tree_level=\"patch\")"
   ]
  },
  {
   "cell_type": "code",
   "execution_count": null,
   "id": "d734c2ea",
   "metadata": {},
   "outputs": [],
   "source": [
    "my_maps.add_shape()"
   ]
  },
  {
   "attachments": {},
   "cell_type": "markdown",
   "id": "e0359506",
   "metadata": {},
   "source": [
    "We can use the ``.show_parent()`` method to see how our predictions look on our parent map sheet (``map_74488700.png``)."
   ]
  },
  {
   "cell_type": "code",
   "execution_count": null,
   "id": "85c7f1d2",
   "metadata": {
    "scrolled": false
   },
   "outputs": [],
   "source": [
    "my_maps.show_parent(\n",
    "    \"map_74488700.png\",\n",
    "    column_to_plot=\"pred\",\n",
    "    vmin=0,\n",
    "    vmax=1,\n",
    "    alpha=0.5,\n",
    "    patch_border=False,\n",
    ")"
   ]
  },
  {
   "attachments": {},
   "cell_type": "markdown",
   "id": "1ef19e32",
   "metadata": {},
   "source": [
    "And the ``.convert_images()`` method to save our results."
   ]
  },
  {
   "cell_type": "code",
   "execution_count": null,
   "id": "93a57626",
   "metadata": {},
   "outputs": [],
   "source": [
    "my_maps.convert_images(save=True, save_format=\"csv\")"
   ]
  },
  {
   "attachments": {},
   "cell_type": "markdown",
   "id": "12eb039a",
   "metadata": {},
   "source": [
    "We can also save our outputs as a ``geojson`` file using the ``.save_patches_to_geojson()`` method.\n",
    "> _**NOTE**_: This will require you to convert your patch coordinates into a polygon format. If these aren't already available, they can be added using the ``.add_patch_polygons()`` method."
   ]
  },
  {
   "cell_type": "code",
   "execution_count": null,
   "id": "c97980d7",
   "metadata": {},
   "outputs": [],
   "source": [
    "my_maps.add_patch_polygons()\n",
    "my_maps.save_patches_to_geojson()"
   ]
  },
  {
   "attachments": {},
   "cell_type": "markdown",
   "id": "8211949a",
   "metadata": {},
   "source": [
    "Beyond MapReader, these outputs can be used to generate interesting visualizations in other tools.\n",
    "\n",
    "For example, here are two visualizations of the rail space data from [our paper]:\n",
    "\n",
    "- https://felt.com/map/MapReader-Launch-Event-map-Urban-Areas-and-Rail-space-9AqftKrvPTlWfwOGkdkCGkD\n",
    "- https://maps.nls.uk/projects/mapreader/index.html#zoom=6.0&lat=56.00000&lon=-4.00000"
   ]
  },
  {
   "attachments": {},
   "cell_type": "markdown",
   "id": "d356c4f5",
   "metadata": {},
   "source": [
    "# Documentation"
   ]
  },
  {
   "attachments": {},
   "cell_type": "markdown",
   "id": "ce9003d1",
   "metadata": {},
   "source": [
    "Please refer to the [MapReader documentation](https://mapreader.readthedocs.io/en/latest/) for more information."
   ]
  },
  {
   "cell_type": "code",
   "execution_count": null,
   "id": "f3ed9870",
   "metadata": {},
   "outputs": [],
   "source": []
  }
 ],
 "metadata": {
  "kernelspec": {
   "display_name": "mapreader_conda",
   "language": "python",
   "name": "python3"
  },
  "language_info": {
   "codemirror_mode": {
    "name": "ipython",
    "version": 3
   },
   "file_extension": ".py",
   "mimetype": "text/x-python",
   "name": "python",
   "nbconvert_exporter": "python",
   "pygments_lexer": "ipython3",
   "version": "3.9.19"
  }
 },
 "nbformat": 4,
 "nbformat_minor": 5
}
